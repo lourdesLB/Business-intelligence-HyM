{
 "cells": [
  {
   "cell_type": "markdown",
   "id": "2aea8384",
   "metadata": {},
   "source": [
    "# MARKETING CAMPAIGNS AND SALES PREDICTIONS"
   ]
  },
  {
   "cell_type": "code",
   "execution_count": 308,
   "id": "e24e2bc6",
   "metadata": {},
   "outputs": [
    {
     "name": "stdout",
     "output_type": "stream",
     "text": [
      "Collecting pydot\n",
      "  Downloading pydot-1.4.2-py2.py3-none-any.whl (21 kB)\n",
      "Requirement already satisfied: pyparsing>=2.1.4 in c:\\users\\usuario\\anaconda3\\lib\\site-packages (from pydot) (3.0.9)\n",
      "Installing collected packages: pydot\n",
      "Successfully installed pydot-1.4.2\n"
     ]
    }
   ],
   "source": [
    "!pip install pydot"
   ]
  },
  {
   "cell_type": "code",
   "execution_count": 309,
   "id": "d66d9379",
   "metadata": {},
   "outputs": [],
   "source": [
    "import random\n",
    "import numpy as np\n",
    "import pandas as pd\n",
    "\n",
    "import matplotlib\n",
    "import matplotlib.pyplot as plt\n",
    "import pydot\n",
    "import seaborn as sns\n",
    "from sklearn import tree\n",
    "\n",
    "from sklearn.model_selection import train_test_split\n",
    "from sklearn.linear_model import LinearRegression\n",
    "from sklearn.ensemble import RandomForestRegressor\n",
    "from sklearn.svm import SVR\n",
    "from sklearn.model_selection import cross_val_score\n",
    "from sklearn.model_selection import KFold\n",
    "from sklearn.metrics import mean_squared_error, r2_score"
   ]
  },
  {
   "cell_type": "code",
   "execution_count": 127,
   "id": "2a8f8d03",
   "metadata": {},
   "outputs": [],
   "source": [
    "random_seed = 54\n",
    "np.random.seed(random_seed)\n",
    "random.seed(random_seed)"
   ]
  },
  {
   "cell_type": "code",
   "execution_count": 128,
   "id": "fcedd10c",
   "metadata": {},
   "outputs": [],
   "source": [
    "FILE_SOURCE = 'marketing_campaigns.csv'"
   ]
  },
  {
   "cell_type": "markdown",
   "id": "2677f80c",
   "metadata": {},
   "source": [
    "## 1. DATA PREPROCESSING"
   ]
  },
  {
   "cell_type": "markdown",
   "id": "12628ae4",
   "metadata": {},
   "source": [
    "### Loading data"
   ]
  },
  {
   "cell_type": "code",
   "execution_count": 129,
   "id": "6845d33c",
   "metadata": {},
   "outputs": [],
   "source": [
    "def load_data(file):\n",
    "    return pd.read_csv(file)"
   ]
  },
  {
   "cell_type": "code",
   "execution_count": 130,
   "id": "f55cff7b",
   "metadata": {},
   "outputs": [],
   "source": [
    "df_marketing_sales = load_data(FILE_SOURCE)"
   ]
  },
  {
   "cell_type": "code",
   "execution_count": 131,
   "id": "4f0bfe18",
   "metadata": {
    "scrolled": true
   },
   "outputs": [
    {
     "data": {
      "text/html": [
       "<div>\n",
       "<style scoped>\n",
       "    .dataframe tbody tr th:only-of-type {\n",
       "        vertical-align: middle;\n",
       "    }\n",
       "\n",
       "    .dataframe tbody tr th {\n",
       "        vertical-align: top;\n",
       "    }\n",
       "\n",
       "    .dataframe thead th {\n",
       "        text-align: right;\n",
       "    }\n",
       "</style>\n",
       "<table border=\"1\" class=\"dataframe\">\n",
       "  <thead>\n",
       "    <tr style=\"text-align: right;\">\n",
       "      <th></th>\n",
       "      <th>TV</th>\n",
       "      <th>Radio</th>\n",
       "      <th>Social Media</th>\n",
       "      <th>Influencer</th>\n",
       "      <th>Sales</th>\n",
       "    </tr>\n",
       "  </thead>\n",
       "  <tbody>\n",
       "    <tr>\n",
       "      <th>0</th>\n",
       "      <td>16.0</td>\n",
       "      <td>6.566231</td>\n",
       "      <td>2.907983</td>\n",
       "      <td>Mega</td>\n",
       "      <td>54.732757</td>\n",
       "    </tr>\n",
       "    <tr>\n",
       "      <th>1</th>\n",
       "      <td>13.0</td>\n",
       "      <td>9.237765</td>\n",
       "      <td>2.409567</td>\n",
       "      <td>Mega</td>\n",
       "      <td>46.677897</td>\n",
       "    </tr>\n",
       "    <tr>\n",
       "      <th>2</th>\n",
       "      <td>41.0</td>\n",
       "      <td>15.886446</td>\n",
       "      <td>2.913410</td>\n",
       "      <td>Mega</td>\n",
       "      <td>150.177829</td>\n",
       "    </tr>\n",
       "    <tr>\n",
       "      <th>3</th>\n",
       "      <td>83.0</td>\n",
       "      <td>30.020028</td>\n",
       "      <td>6.922304</td>\n",
       "      <td>Mega</td>\n",
       "      <td>298.246340</td>\n",
       "    </tr>\n",
       "    <tr>\n",
       "      <th>4</th>\n",
       "      <td>15.0</td>\n",
       "      <td>8.437408</td>\n",
       "      <td>1.405998</td>\n",
       "      <td>Micro</td>\n",
       "      <td>56.594181</td>\n",
       "    </tr>\n",
       "  </tbody>\n",
       "</table>\n",
       "</div>"
      ],
      "text/plain": [
       "     TV      Radio  Social Media Influencer       Sales\n",
       "0  16.0   6.566231      2.907983       Mega   54.732757\n",
       "1  13.0   9.237765      2.409567       Mega   46.677897\n",
       "2  41.0  15.886446      2.913410       Mega  150.177829\n",
       "3  83.0  30.020028      6.922304       Mega  298.246340\n",
       "4  15.0   8.437408      1.405998      Micro   56.594181"
      ]
     },
     "execution_count": 131,
     "metadata": {},
     "output_type": "execute_result"
    }
   ],
   "source": [
    "df_marketing_sales.head()"
   ]
  },
  {
   "cell_type": "code",
   "execution_count": 132,
   "id": "99a6d8c9",
   "metadata": {},
   "outputs": [
    {
     "data": {
      "text/html": [
       "<div>\n",
       "<style scoped>\n",
       "    .dataframe tbody tr th:only-of-type {\n",
       "        vertical-align: middle;\n",
       "    }\n",
       "\n",
       "    .dataframe tbody tr th {\n",
       "        vertical-align: top;\n",
       "    }\n",
       "\n",
       "    .dataframe thead th {\n",
       "        text-align: right;\n",
       "    }\n",
       "</style>\n",
       "<table border=\"1\" class=\"dataframe\">\n",
       "  <thead>\n",
       "    <tr style=\"text-align: right;\">\n",
       "      <th></th>\n",
       "      <th>TV</th>\n",
       "      <th>Radio</th>\n",
       "      <th>Social Media</th>\n",
       "      <th>Sales</th>\n",
       "    </tr>\n",
       "  </thead>\n",
       "  <tbody>\n",
       "    <tr>\n",
       "      <th>count</th>\n",
       "      <td>4562.000000</td>\n",
       "      <td>4568.000000</td>\n",
       "      <td>4566.000000</td>\n",
       "      <td>4566.000000</td>\n",
       "    </tr>\n",
       "    <tr>\n",
       "      <th>mean</th>\n",
       "      <td>54.066857</td>\n",
       "      <td>18.160356</td>\n",
       "      <td>3.323956</td>\n",
       "      <td>192.466602</td>\n",
       "    </tr>\n",
       "    <tr>\n",
       "      <th>std</th>\n",
       "      <td>26.125054</td>\n",
       "      <td>9.676958</td>\n",
       "      <td>2.212670</td>\n",
       "      <td>93.133092</td>\n",
       "    </tr>\n",
       "    <tr>\n",
       "      <th>min</th>\n",
       "      <td>10.000000</td>\n",
       "      <td>0.000684</td>\n",
       "      <td>0.000031</td>\n",
       "      <td>31.199409</td>\n",
       "    </tr>\n",
       "    <tr>\n",
       "      <th>25%</th>\n",
       "      <td>32.000000</td>\n",
       "      <td>10.525957</td>\n",
       "      <td>1.527849</td>\n",
       "      <td>112.322882</td>\n",
       "    </tr>\n",
       "    <tr>\n",
       "      <th>50%</th>\n",
       "      <td>53.000000</td>\n",
       "      <td>17.859513</td>\n",
       "      <td>3.055565</td>\n",
       "      <td>189.231172</td>\n",
       "    </tr>\n",
       "    <tr>\n",
       "      <th>75%</th>\n",
       "      <td>77.000000</td>\n",
       "      <td>25.649730</td>\n",
       "      <td>4.807558</td>\n",
       "      <td>272.507922</td>\n",
       "    </tr>\n",
       "    <tr>\n",
       "      <th>max</th>\n",
       "      <td>100.000000</td>\n",
       "      <td>48.871161</td>\n",
       "      <td>13.981662</td>\n",
       "      <td>364.079751</td>\n",
       "    </tr>\n",
       "  </tbody>\n",
       "</table>\n",
       "</div>"
      ],
      "text/plain": [
       "                TV        Radio  Social Media        Sales\n",
       "count  4562.000000  4568.000000   4566.000000  4566.000000\n",
       "mean     54.066857    18.160356      3.323956   192.466602\n",
       "std      26.125054     9.676958      2.212670    93.133092\n",
       "min      10.000000     0.000684      0.000031    31.199409\n",
       "25%      32.000000    10.525957      1.527849   112.322882\n",
       "50%      53.000000    17.859513      3.055565   189.231172\n",
       "75%      77.000000    25.649730      4.807558   272.507922\n",
       "max     100.000000    48.871161     13.981662   364.079751"
      ]
     },
     "execution_count": 132,
     "metadata": {},
     "output_type": "execute_result"
    }
   ],
   "source": [
    "df_marketing_sales.describe()"
   ]
  },
  {
   "cell_type": "code",
   "execution_count": 133,
   "id": "f5497393",
   "metadata": {},
   "outputs": [
    {
     "name": "stdout",
     "output_type": "stream",
     "text": [
      "<class 'pandas.core.frame.DataFrame'>\n",
      "RangeIndex: 4572 entries, 0 to 4571\n",
      "Data columns (total 5 columns):\n",
      " #   Column        Non-Null Count  Dtype  \n",
      "---  ------        --------------  -----  \n",
      " 0   TV            4562 non-null   float64\n",
      " 1   Radio         4568 non-null   float64\n",
      " 2   Social Media  4566 non-null   float64\n",
      " 3   Influencer    4572 non-null   object \n",
      " 4   Sales         4566 non-null   float64\n",
      "dtypes: float64(4), object(1)\n",
      "memory usage: 178.7+ KB\n"
     ]
    }
   ],
   "source": [
    "df_marketing_sales.info()"
   ]
  },
  {
   "cell_type": "markdown",
   "id": "8a57cc22",
   "metadata": {},
   "source": [
    "### Null values treatment"
   ]
  },
  {
   "cell_type": "code",
   "execution_count": 134,
   "id": "10922746",
   "metadata": {},
   "outputs": [
    {
     "data": {
      "text/plain": [
       "TV              10\n",
       "Radio            4\n",
       "Social Media     6\n",
       "Influencer       0\n",
       "Sales            6\n",
       "dtype: int64"
      ]
     },
     "execution_count": 134,
     "metadata": {},
     "output_type": "execute_result"
    }
   ],
   "source": [
    "# Numero de valores nulos\n",
    "df_marketing_sales.isna().sum(axis=0)"
   ]
  },
  {
   "cell_type": "code",
   "execution_count": 135,
   "id": "42221851",
   "metadata": {},
   "outputs": [
    {
     "data": {
      "text/plain": [
       "TV              0.218723\n",
       "Radio           0.087489\n",
       "Social Media    0.131234\n",
       "Influencer      0.000000\n",
       "Sales           0.131234\n",
       "dtype: float64"
      ]
     },
     "execution_count": 135,
     "metadata": {},
     "output_type": "execute_result"
    }
   ],
   "source": [
    "# Porcentaje de valores nulos por campo\n",
    "df_marketing_sales.isna().sum(axis=0)*100/df_marketing_sales.shape[0]"
   ]
  },
  {
   "cell_type": "code",
   "execution_count": 136,
   "id": "dce02552",
   "metadata": {},
   "outputs": [
    {
     "data": {
      "text/plain": [
       "99.4313210848644"
      ]
     },
     "execution_count": 136,
     "metadata": {},
     "output_type": "execute_result"
    }
   ],
   "source": [
    "# Primera aproximacion: eliminar los valores nulos\n",
    "\n",
    "# Eliminando los valores nulos que porcentaje de datos nos quedaria\n",
    "df_marketing_sales.dropna().shape[0] * 100 / df_marketing_sales.shape[0]\n",
    "\n",
    "# No quedariamos con el 99% de los datos no estaria mal, podemos elinarlos"
   ]
  },
  {
   "cell_type": "code",
   "execution_count": 137,
   "id": "794c7a80",
   "metadata": {},
   "outputs": [],
   "source": [
    "# Segunda aproximacion: sustitucion de valores\n",
    "\n",
    "df_marketing_sales['TV'] = df_marketing_sales['TV'].fillna(df_marketing_sales['TV'].mean())\n",
    "df_marketing_sales['Radio'] = df_marketing_sales['Radio'].fillna(df_marketing_sales['Radio'].mean())\n",
    "df_marketing_sales['Social Media'] = df_marketing_sales['Social Media'].fillna(df_marketing_sales['Social Media'].mean())\n",
    "df_marketing_sales['Influencer'] = df_marketing_sales['Influencer'].fillna(df_marketing_sales['Influencer'].mode())\n",
    "df_marketing_sales['Sales'] = df_marketing_sales['Sales'].fillna(df_marketing_sales['Sales'].mean())"
   ]
  },
  {
   "cell_type": "code",
   "execution_count": 138,
   "id": "fbc7d7aa",
   "metadata": {},
   "outputs": [
    {
     "data": {
      "text/html": [
       "<div>\n",
       "<style scoped>\n",
       "    .dataframe tbody tr th:only-of-type {\n",
       "        vertical-align: middle;\n",
       "    }\n",
       "\n",
       "    .dataframe tbody tr th {\n",
       "        vertical-align: top;\n",
       "    }\n",
       "\n",
       "    .dataframe thead th {\n",
       "        text-align: right;\n",
       "    }\n",
       "</style>\n",
       "<table border=\"1\" class=\"dataframe\">\n",
       "  <thead>\n",
       "    <tr style=\"text-align: right;\">\n",
       "      <th></th>\n",
       "      <th>TV</th>\n",
       "      <th>Radio</th>\n",
       "      <th>Social Media</th>\n",
       "      <th>Sales</th>\n",
       "    </tr>\n",
       "  </thead>\n",
       "  <tbody>\n",
       "    <tr>\n",
       "      <th>count</th>\n",
       "      <td>4572.000000</td>\n",
       "      <td>4572.000000</td>\n",
       "      <td>4572.000000</td>\n",
       "      <td>4572.000000</td>\n",
       "    </tr>\n",
       "    <tr>\n",
       "      <th>mean</th>\n",
       "      <td>54.066857</td>\n",
       "      <td>18.160356</td>\n",
       "      <td>3.323956</td>\n",
       "      <td>192.466602</td>\n",
       "    </tr>\n",
       "    <tr>\n",
       "      <th>std</th>\n",
       "      <td>26.096461</td>\n",
       "      <td>9.672723</td>\n",
       "      <td>2.211218</td>\n",
       "      <td>93.071947</td>\n",
       "    </tr>\n",
       "    <tr>\n",
       "      <th>min</th>\n",
       "      <td>10.000000</td>\n",
       "      <td>0.000684</td>\n",
       "      <td>0.000031</td>\n",
       "      <td>31.199409</td>\n",
       "    </tr>\n",
       "    <tr>\n",
       "      <th>25%</th>\n",
       "      <td>32.000000</td>\n",
       "      <td>10.546519</td>\n",
       "      <td>1.529879</td>\n",
       "      <td>112.397660</td>\n",
       "    </tr>\n",
       "    <tr>\n",
       "      <th>50%</th>\n",
       "      <td>53.000000</td>\n",
       "      <td>17.875181</td>\n",
       "      <td>3.057150</td>\n",
       "      <td>189.632530</td>\n",
       "    </tr>\n",
       "    <tr>\n",
       "      <th>75%</th>\n",
       "      <td>77.000000</td>\n",
       "      <td>25.647476</td>\n",
       "      <td>4.805832</td>\n",
       "      <td>272.414914</td>\n",
       "    </tr>\n",
       "    <tr>\n",
       "      <th>max</th>\n",
       "      <td>100.000000</td>\n",
       "      <td>48.871161</td>\n",
       "      <td>13.981662</td>\n",
       "      <td>364.079751</td>\n",
       "    </tr>\n",
       "  </tbody>\n",
       "</table>\n",
       "</div>"
      ],
      "text/plain": [
       "                TV        Radio  Social Media        Sales\n",
       "count  4572.000000  4572.000000   4572.000000  4572.000000\n",
       "mean     54.066857    18.160356      3.323956   192.466602\n",
       "std      26.096461     9.672723      2.211218    93.071947\n",
       "min      10.000000     0.000684      0.000031    31.199409\n",
       "25%      32.000000    10.546519      1.529879   112.397660\n",
       "50%      53.000000    17.875181      3.057150   189.632530\n",
       "75%      77.000000    25.647476      4.805832   272.414914\n",
       "max     100.000000    48.871161     13.981662   364.079751"
      ]
     },
     "execution_count": 138,
     "metadata": {},
     "output_type": "execute_result"
    }
   ],
   "source": [
    "df_marketing_sales.describe()"
   ]
  },
  {
   "cell_type": "code",
   "execution_count": 139,
   "id": "b832e158",
   "metadata": {},
   "outputs": [
    {
     "name": "stdout",
     "output_type": "stream",
     "text": [
      "<class 'pandas.core.frame.DataFrame'>\n",
      "RangeIndex: 4572 entries, 0 to 4571\n",
      "Data columns (total 5 columns):\n",
      " #   Column        Non-Null Count  Dtype  \n",
      "---  ------        --------------  -----  \n",
      " 0   TV            4572 non-null   float64\n",
      " 1   Radio         4572 non-null   float64\n",
      " 2   Social Media  4572 non-null   float64\n",
      " 3   Influencer    4572 non-null   object \n",
      " 4   Sales         4572 non-null   float64\n",
      "dtypes: float64(4), object(1)\n",
      "memory usage: 178.7+ KB\n"
     ]
    }
   ],
   "source": [
    "df_marketing_sales.info()"
   ]
  },
  {
   "cell_type": "markdown",
   "id": "7d7bcc9c",
   "metadata": {},
   "source": [
    "### Encoding data"
   ]
  },
  {
   "cell_type": "code",
   "execution_count": 140,
   "id": "af53d336",
   "metadata": {},
   "outputs": [
    {
     "data": {
      "text/plain": [
       "array(['Mega', 'Micro', 'Nano', 'Macro'], dtype=object)"
      ]
     },
     "execution_count": 140,
     "metadata": {},
     "output_type": "execute_result"
    }
   ],
   "source": [
    "# Datos categoricos\n",
    "df_marketing_sales['Influencer'].unique()"
   ]
  },
  {
   "cell_type": "code",
   "execution_count": 141,
   "id": "d933f737",
   "metadata": {},
   "outputs": [],
   "source": [
    "# Hay una relacion de orden\n",
    "df_marketing_sales['Influencer'] = df_marketing_sales['Influencer'].map({\n",
    "    'Macro': 4,\n",
    "    'Mega': 3,\n",
    "    'Micro': 2,\n",
    "    'Nano': 1\n",
    "})"
   ]
  },
  {
   "cell_type": "markdown",
   "id": "4b8e1616",
   "metadata": {},
   "source": [
    "### Detecting outliers"
   ]
  },
  {
   "cell_type": "markdown",
   "id": "8ca904ab",
   "metadata": {},
   "source": [
    "Detección de outliers para atributos continuos"
   ]
  },
  {
   "cell_type": "code",
   "execution_count": 142,
   "id": "083e2481",
   "metadata": {},
   "outputs": [],
   "source": [
    "atributos_continuos = ['TV', 'Radio', 'Social Media', 'Sales']\n",
    "atributos_categoricos = ['Influencer']"
   ]
  },
  {
   "cell_type": "code",
   "execution_count": 143,
   "id": "fbd3bf79",
   "metadata": {},
   "outputs": [
    {
     "data": {
      "text/html": [
       "<div>\n",
       "<style scoped>\n",
       "    .dataframe tbody tr th:only-of-type {\n",
       "        vertical-align: middle;\n",
       "    }\n",
       "\n",
       "    .dataframe tbody tr th {\n",
       "        vertical-align: top;\n",
       "    }\n",
       "\n",
       "    .dataframe thead th {\n",
       "        text-align: right;\n",
       "    }\n",
       "</style>\n",
       "<table border=\"1\" class=\"dataframe\">\n",
       "  <thead>\n",
       "    <tr style=\"text-align: right;\">\n",
       "      <th></th>\n",
       "      <th>TV</th>\n",
       "      <th>Radio</th>\n",
       "      <th>Social Media</th>\n",
       "      <th>Influencer</th>\n",
       "      <th>Sales</th>\n",
       "    </tr>\n",
       "  </thead>\n",
       "  <tbody>\n",
       "    <tr>\n",
       "      <th>count</th>\n",
       "      <td>4572.000000</td>\n",
       "      <td>4572.000000</td>\n",
       "      <td>4572.000000</td>\n",
       "      <td>4572.000000</td>\n",
       "      <td>4572.000000</td>\n",
       "    </tr>\n",
       "    <tr>\n",
       "      <th>mean</th>\n",
       "      <td>54.066857</td>\n",
       "      <td>18.160356</td>\n",
       "      <td>3.323956</td>\n",
       "      <td>2.494969</td>\n",
       "      <td>192.466602</td>\n",
       "    </tr>\n",
       "    <tr>\n",
       "      <th>std</th>\n",
       "      <td>26.096461</td>\n",
       "      <td>9.672723</td>\n",
       "      <td>2.211218</td>\n",
       "      <td>1.113243</td>\n",
       "      <td>93.071947</td>\n",
       "    </tr>\n",
       "    <tr>\n",
       "      <th>min</th>\n",
       "      <td>10.000000</td>\n",
       "      <td>0.000684</td>\n",
       "      <td>0.000031</td>\n",
       "      <td>1.000000</td>\n",
       "      <td>31.199409</td>\n",
       "    </tr>\n",
       "    <tr>\n",
       "      <th>25%</th>\n",
       "      <td>32.000000</td>\n",
       "      <td>10.546519</td>\n",
       "      <td>1.529879</td>\n",
       "      <td>2.000000</td>\n",
       "      <td>112.397660</td>\n",
       "    </tr>\n",
       "    <tr>\n",
       "      <th>50%</th>\n",
       "      <td>53.000000</td>\n",
       "      <td>17.875181</td>\n",
       "      <td>3.057150</td>\n",
       "      <td>2.000000</td>\n",
       "      <td>189.632530</td>\n",
       "    </tr>\n",
       "    <tr>\n",
       "      <th>75%</th>\n",
       "      <td>77.000000</td>\n",
       "      <td>25.647476</td>\n",
       "      <td>4.805832</td>\n",
       "      <td>3.000000</td>\n",
       "      <td>272.414914</td>\n",
       "    </tr>\n",
       "    <tr>\n",
       "      <th>max</th>\n",
       "      <td>100.000000</td>\n",
       "      <td>48.871161</td>\n",
       "      <td>13.981662</td>\n",
       "      <td>4.000000</td>\n",
       "      <td>364.079751</td>\n",
       "    </tr>\n",
       "  </tbody>\n",
       "</table>\n",
       "</div>"
      ],
      "text/plain": [
       "                TV        Radio  Social Media   Influencer        Sales\n",
       "count  4572.000000  4572.000000   4572.000000  4572.000000  4572.000000\n",
       "mean     54.066857    18.160356      3.323956     2.494969   192.466602\n",
       "std      26.096461     9.672723      2.211218     1.113243    93.071947\n",
       "min      10.000000     0.000684      0.000031     1.000000    31.199409\n",
       "25%      32.000000    10.546519      1.529879     2.000000   112.397660\n",
       "50%      53.000000    17.875181      3.057150     2.000000   189.632530\n",
       "75%      77.000000    25.647476      4.805832     3.000000   272.414914\n",
       "max     100.000000    48.871161     13.981662     4.000000   364.079751"
      ]
     },
     "execution_count": 143,
     "metadata": {},
     "output_type": "execute_result"
    }
   ],
   "source": [
    "df_marketing_sales.describe()"
   ]
  },
  {
   "cell_type": "code",
   "execution_count": 144,
   "id": "2ef95453",
   "metadata": {},
   "outputs": [],
   "source": [
    "def remove_outliers_IQR(df,df_column,otype):\n",
    "    # Calculamos el rango intercuartilico\n",
    "    Q1 = df_column.quantile(0.25)\n",
    "    Q3 = df_column.quantile(0.75)\n",
    "    IQR = Q3 - Q1\n",
    "    # Detectamos indices de los outliers\n",
    "    df2 = None\n",
    "    if otype==\"up\":\n",
    "        df2 = df[~(df_column > (Q3 + 1.5 * IQR))]\n",
    "    elif otype==\"down\":\n",
    "        df2 = df[~(df_column < (Q1 - 1.5 * IQR))]\n",
    "    elif otype==\"both\":\n",
    "        df2 = df[~(df_column < (Q1 - 1.5 * IQR)) | (df_column > (Q3 + 1.5 * IQR))]\n",
    "    else:\n",
    "        df2 = df\n",
    "    return df2"
   ]
  },
  {
   "cell_type": "code",
   "execution_count": 145,
   "id": "4808f244",
   "metadata": {},
   "outputs": [
    {
     "data": {
      "text/plain": [
       "<Axes: >"
      ]
     },
     "execution_count": 145,
     "metadata": {},
     "output_type": "execute_result"
    },
    {
     "data": {
      "image/png": "[encoded data removed]",
      "text/plain": [
       "<Figure size 640x480 with 1 Axes>"
      ]
     },
     "metadata": {},
     "output_type": "display_data"
    }
   ],
   "source": [
    "# Deteccion de outliers mediante boxplot como herramienta de estadistica\n",
    "# descriptiva\n",
    "\n",
    "sns.boxplot(data=df_marketing_sales[atributos_continuos])"
   ]
  },
  {
   "cell_type": "code",
   "execution_count": 146,
   "id": "2337e60a",
   "metadata": {},
   "outputs": [
    {
     "data": {
      "text/plain": [
       "<Axes: >"
      ]
     },
     "execution_count": 146,
     "metadata": {},
     "output_type": "execute_result"
    },
    {
     "data": {
      "image/png": "[encoded data removed]",
      "text/plain": [
       "<Figure size 640x480 with 1 Axes>"
      ]
     },
     "metadata": {},
     "output_type": "display_data"
    }
   ],
   "source": [
    "# Deteccion de outliers en el atributo TV\n",
    "\n",
    "sns.boxplot(data=df_marketing_sales['TV'], color=\"b\")\n",
    "# No detectamos outliers"
   ]
  },
  {
   "cell_type": "code",
   "execution_count": 147,
   "id": "1e88bc36",
   "metadata": {},
   "outputs": [
    {
     "data": {
      "text/plain": [
       "<Axes: >"
      ]
     },
     "execution_count": 147,
     "metadata": {},
     "output_type": "execute_result"
    },
    {
     "data": {
      "image/png": "[encoded data removed]",
      "text/plain": [
       "<Figure size 640x480 with 1 Axes>"
      ]
     },
     "metadata": {},
     "output_type": "display_data"
    }
   ],
   "source": [
    "# Deteccion de outliers en el atributo Radio\n",
    "\n",
    "sns.boxplot(data=df_marketing_sales['Radio'], color='y')\n",
    "# Detectamos outliers superiores"
   ]
  },
  {
   "cell_type": "code",
   "execution_count": 148,
   "id": "7539fd89",
   "metadata": {},
   "outputs": [
    {
     "name": "stdout",
     "output_type": "stream",
     "text": [
      "(4572, 5) (4571, 5)\n"
     ]
    },
    {
     "data": {
      "text/html": [
       "<div>\n",
       "<style scoped>\n",
       "    .dataframe tbody tr th:only-of-type {\n",
       "        vertical-align: middle;\n",
       "    }\n",
       "\n",
       "    .dataframe tbody tr th {\n",
       "        vertical-align: top;\n",
       "    }\n",
       "\n",
       "    .dataframe thead th {\n",
       "        text-align: right;\n",
       "    }\n",
       "</style>\n",
       "<table border=\"1\" class=\"dataframe\">\n",
       "  <thead>\n",
       "    <tr style=\"text-align: right;\">\n",
       "      <th></th>\n",
       "      <th>TV</th>\n",
       "      <th>Radio</th>\n",
       "      <th>Social Media</th>\n",
       "      <th>Influencer</th>\n",
       "      <th>Sales</th>\n",
       "    </tr>\n",
       "  </thead>\n",
       "  <tbody>\n",
       "    <tr>\n",
       "      <th>0</th>\n",
       "      <td>16.0</td>\n",
       "      <td>6.566231</td>\n",
       "      <td>2.907983</td>\n",
       "      <td>3</td>\n",
       "      <td>54.732757</td>\n",
       "    </tr>\n",
       "    <tr>\n",
       "      <th>1</th>\n",
       "      <td>13.0</td>\n",
       "      <td>9.237765</td>\n",
       "      <td>2.409567</td>\n",
       "      <td>3</td>\n",
       "      <td>46.677897</td>\n",
       "    </tr>\n",
       "    <tr>\n",
       "      <th>2</th>\n",
       "      <td>41.0</td>\n",
       "      <td>15.886446</td>\n",
       "      <td>2.913410</td>\n",
       "      <td>3</td>\n",
       "      <td>150.177829</td>\n",
       "    </tr>\n",
       "    <tr>\n",
       "      <th>3</th>\n",
       "      <td>83.0</td>\n",
       "      <td>30.020028</td>\n",
       "      <td>6.922304</td>\n",
       "      <td>3</td>\n",
       "      <td>298.246340</td>\n",
       "    </tr>\n",
       "    <tr>\n",
       "      <th>4</th>\n",
       "      <td>15.0</td>\n",
       "      <td>8.437408</td>\n",
       "      <td>1.405998</td>\n",
       "      <td>2</td>\n",
       "      <td>56.594181</td>\n",
       "    </tr>\n",
       "    <tr>\n",
       "      <th>...</th>\n",
       "      <td>...</td>\n",
       "      <td>...</td>\n",
       "      <td>...</td>\n",
       "      <td>...</td>\n",
       "      <td>...</td>\n",
       "    </tr>\n",
       "    <tr>\n",
       "      <th>4567</th>\n",
       "      <td>26.0</td>\n",
       "      <td>4.472360</td>\n",
       "      <td>0.717090</td>\n",
       "      <td>2</td>\n",
       "      <td>94.685866</td>\n",
       "    </tr>\n",
       "    <tr>\n",
       "      <th>4568</th>\n",
       "      <td>71.0</td>\n",
       "      <td>20.610685</td>\n",
       "      <td>6.545573</td>\n",
       "      <td>1</td>\n",
       "      <td>249.101915</td>\n",
       "    </tr>\n",
       "    <tr>\n",
       "      <th>4569</th>\n",
       "      <td>44.0</td>\n",
       "      <td>19.800072</td>\n",
       "      <td>5.096192</td>\n",
       "      <td>2</td>\n",
       "      <td>163.631457</td>\n",
       "    </tr>\n",
       "    <tr>\n",
       "      <th>4570</th>\n",
       "      <td>71.0</td>\n",
       "      <td>17.534640</td>\n",
       "      <td>1.940873</td>\n",
       "      <td>4</td>\n",
       "      <td>253.610411</td>\n",
       "    </tr>\n",
       "    <tr>\n",
       "      <th>4571</th>\n",
       "      <td>42.0</td>\n",
       "      <td>15.966688</td>\n",
       "      <td>5.046548</td>\n",
       "      <td>2</td>\n",
       "      <td>148.202414</td>\n",
       "    </tr>\n",
       "  </tbody>\n",
       "</table>\n",
       "<p>4571 rows × 5 columns</p>\n",
       "</div>"
      ],
      "text/plain": [
       "        TV      Radio  Social Media  Influencer       Sales\n",
       "0     16.0   6.566231      2.907983           3   54.732757\n",
       "1     13.0   9.237765      2.409567           3   46.677897\n",
       "2     41.0  15.886446      2.913410           3  150.177829\n",
       "3     83.0  30.020028      6.922304           3  298.246340\n",
       "4     15.0   8.437408      1.405998           2   56.594181\n",
       "...    ...        ...           ...         ...         ...\n",
       "4567  26.0   4.472360      0.717090           2   94.685866\n",
       "4568  71.0  20.610685      6.545573           1  249.101915\n",
       "4569  44.0  19.800072      5.096192           2  163.631457\n",
       "4570  71.0  17.534640      1.940873           4  253.610411\n",
       "4571  42.0  15.966688      5.046548           2  148.202414\n",
       "\n",
       "[4571 rows x 5 columns]"
      ]
     },
     "execution_count": 148,
     "metadata": {},
     "output_type": "execute_result"
    }
   ],
   "source": [
    "# Eliminacion de outliers de Radio\n",
    "\n",
    "print(df_marketing_sales.shape, remove_outliers_IQR(df_marketing_sales,df_marketing_sales['Radio'],\"up\").shape)\n",
    "\n",
    "df_marketing_sales = remove_outliers_IQR(df_marketing_sales,df_marketing_sales['Radio'],\"up\")\n",
    "df_marketing_sales"
   ]
  },
  {
   "cell_type": "code",
   "execution_count": 149,
   "id": "5b85052f",
   "metadata": {},
   "outputs": [
    {
     "data": {
      "text/plain": [
       "<Axes: >"
      ]
     },
     "execution_count": 149,
     "metadata": {},
     "output_type": "execute_result"
    },
    {
     "data": {
      "image/png": "[encoded data removed]",
      "text/plain": [
       "<Figure size 640x480 with 1 Axes>"
      ]
     },
     "metadata": {},
     "output_type": "display_data"
    }
   ],
   "source": [
    "# Deteccion de outliers en el atributo Social Media\n",
    "\n",
    "sns.boxplot(data=df_marketing_sales['Social Media'], color='g')"
   ]
  },
  {
   "cell_type": "code",
   "execution_count": 150,
   "id": "b40de20b",
   "metadata": {},
   "outputs": [
    {
     "name": "stdout",
     "output_type": "stream",
     "text": [
      "(4571, 5) (4543, 5)\n"
     ]
    },
    {
     "data": {
      "text/html": [
       "<div>\n",
       "<style scoped>\n",
       "    .dataframe tbody tr th:only-of-type {\n",
       "        vertical-align: middle;\n",
       "    }\n",
       "\n",
       "    .dataframe tbody tr th {\n",
       "        vertical-align: top;\n",
       "    }\n",
       "\n",
       "    .dataframe thead th {\n",
       "        text-align: right;\n",
       "    }\n",
       "</style>\n",
       "<table border=\"1\" class=\"dataframe\">\n",
       "  <thead>\n",
       "    <tr style=\"text-align: right;\">\n",
       "      <th></th>\n",
       "      <th>TV</th>\n",
       "      <th>Radio</th>\n",
       "      <th>Social Media</th>\n",
       "      <th>Influencer</th>\n",
       "      <th>Sales</th>\n",
       "    </tr>\n",
       "  </thead>\n",
       "  <tbody>\n",
       "    <tr>\n",
       "      <th>0</th>\n",
       "      <td>16.0</td>\n",
       "      <td>6.566231</td>\n",
       "      <td>2.907983</td>\n",
       "      <td>3</td>\n",
       "      <td>54.732757</td>\n",
       "    </tr>\n",
       "    <tr>\n",
       "      <th>1</th>\n",
       "      <td>13.0</td>\n",
       "      <td>9.237765</td>\n",
       "      <td>2.409567</td>\n",
       "      <td>3</td>\n",
       "      <td>46.677897</td>\n",
       "    </tr>\n",
       "    <tr>\n",
       "      <th>2</th>\n",
       "      <td>41.0</td>\n",
       "      <td>15.886446</td>\n",
       "      <td>2.913410</td>\n",
       "      <td>3</td>\n",
       "      <td>150.177829</td>\n",
       "    </tr>\n",
       "    <tr>\n",
       "      <th>3</th>\n",
       "      <td>83.0</td>\n",
       "      <td>30.020028</td>\n",
       "      <td>6.922304</td>\n",
       "      <td>3</td>\n",
       "      <td>298.246340</td>\n",
       "    </tr>\n",
       "    <tr>\n",
       "      <th>4</th>\n",
       "      <td>15.0</td>\n",
       "      <td>8.437408</td>\n",
       "      <td>1.405998</td>\n",
       "      <td>2</td>\n",
       "      <td>56.594181</td>\n",
       "    </tr>\n",
       "    <tr>\n",
       "      <th>...</th>\n",
       "      <td>...</td>\n",
       "      <td>...</td>\n",
       "      <td>...</td>\n",
       "      <td>...</td>\n",
       "      <td>...</td>\n",
       "    </tr>\n",
       "    <tr>\n",
       "      <th>4567</th>\n",
       "      <td>26.0</td>\n",
       "      <td>4.472360</td>\n",
       "      <td>0.717090</td>\n",
       "      <td>2</td>\n",
       "      <td>94.685866</td>\n",
       "    </tr>\n",
       "    <tr>\n",
       "      <th>4568</th>\n",
       "      <td>71.0</td>\n",
       "      <td>20.610685</td>\n",
       "      <td>6.545573</td>\n",
       "      <td>1</td>\n",
       "      <td>249.101915</td>\n",
       "    </tr>\n",
       "    <tr>\n",
       "      <th>4569</th>\n",
       "      <td>44.0</td>\n",
       "      <td>19.800072</td>\n",
       "      <td>5.096192</td>\n",
       "      <td>2</td>\n",
       "      <td>163.631457</td>\n",
       "    </tr>\n",
       "    <tr>\n",
       "      <th>4570</th>\n",
       "      <td>71.0</td>\n",
       "      <td>17.534640</td>\n",
       "      <td>1.940873</td>\n",
       "      <td>4</td>\n",
       "      <td>253.610411</td>\n",
       "    </tr>\n",
       "    <tr>\n",
       "      <th>4571</th>\n",
       "      <td>42.0</td>\n",
       "      <td>15.966688</td>\n",
       "      <td>5.046548</td>\n",
       "      <td>2</td>\n",
       "      <td>148.202414</td>\n",
       "    </tr>\n",
       "  </tbody>\n",
       "</table>\n",
       "<p>4543 rows × 5 columns</p>\n",
       "</div>"
      ],
      "text/plain": [
       "        TV      Radio  Social Media  Influencer       Sales\n",
       "0     16.0   6.566231      2.907983           3   54.732757\n",
       "1     13.0   9.237765      2.409567           3   46.677897\n",
       "2     41.0  15.886446      2.913410           3  150.177829\n",
       "3     83.0  30.020028      6.922304           3  298.246340\n",
       "4     15.0   8.437408      1.405998           2   56.594181\n",
       "...    ...        ...           ...         ...         ...\n",
       "4567  26.0   4.472360      0.717090           2   94.685866\n",
       "4568  71.0  20.610685      6.545573           1  249.101915\n",
       "4569  44.0  19.800072      5.096192           2  163.631457\n",
       "4570  71.0  17.534640      1.940873           4  253.610411\n",
       "4571  42.0  15.966688      5.046548           2  148.202414\n",
       "\n",
       "[4543 rows x 5 columns]"
      ]
     },
     "execution_count": 150,
     "metadata": {},
     "output_type": "execute_result"
    }
   ],
   "source": [
    "# Eliminacion de outliers de Social Media\n",
    "\n",
    "print(df_marketing_sales.shape, remove_outliers_IQR(df_marketing_sales,df_marketing_sales['Social Media'],\"up\").shape)\n",
    "\n",
    "df_marketing_sales = remove_outliers_IQR(df_marketing_sales,df_marketing_sales['Social Media'],\"up\")\n",
    "df_marketing_sales"
   ]
  },
  {
   "cell_type": "code",
   "execution_count": 151,
   "id": "82082578",
   "metadata": {},
   "outputs": [
    {
     "data": {
      "text/plain": [
       "<Axes: >"
      ]
     },
     "execution_count": 151,
     "metadata": {},
     "output_type": "execute_result"
    },
    {
     "data": {
      "image/png": "[encoded data removed]",
      "text/plain": [
       "<Figure size 640x480 with 1 Axes>"
      ]
     },
     "metadata": {},
     "output_type": "display_data"
    }
   ],
   "source": [
    "# Deteccion de outliers en el atributo Sales\n",
    "\n",
    "sns.boxplot(data=df_marketing_sales['Sales'], color='r')"
   ]
  },
  {
   "cell_type": "markdown",
   "id": "2b382a68",
   "metadata": {},
   "source": [
    "## 2. EXPLORATORY DATA ANALYSIS"
   ]
  },
  {
   "cell_type": "markdown",
   "id": "59232a7a",
   "metadata": {},
   "source": [
    "### Feautures distirbution"
   ]
  },
  {
   "cell_type": "code",
   "execution_count": null,
   "id": "4ec0855a",
   "metadata": {},
   "outputs": [],
   "source": [
    "### Rellenar Lourdes"
   ]
  },
  {
   "cell_type": "markdown",
   "id": "a1962c5c",
   "metadata": {},
   "source": [
    "### Features correlation"
   ]
  },
  {
   "cell_type": "code",
   "execution_count": 222,
   "id": "f912b2ba",
   "metadata": {},
   "outputs": [
    {
     "data": {
      "text/html": [
       "<div>\n",
       "<style scoped>\n",
       "    .dataframe tbody tr th:only-of-type {\n",
       "        vertical-align: middle;\n",
       "    }\n",
       "\n",
       "    .dataframe tbody tr th {\n",
       "        vertical-align: top;\n",
       "    }\n",
       "\n",
       "    .dataframe thead th {\n",
       "        text-align: right;\n",
       "    }\n",
       "</style>\n",
       "<table border=\"1\" class=\"dataframe\">\n",
       "  <thead>\n",
       "    <tr style=\"text-align: right;\">\n",
       "      <th></th>\n",
       "      <th>TV</th>\n",
       "      <th>Radio</th>\n",
       "      <th>Social Media</th>\n",
       "      <th>Influencer</th>\n",
       "      <th>Sales</th>\n",
       "    </tr>\n",
       "  </thead>\n",
       "  <tbody>\n",
       "    <tr>\n",
       "      <th>TV</th>\n",
       "      <td>1.000000</td>\n",
       "      <td>0.866309</td>\n",
       "      <td>0.525166</td>\n",
       "      <td>0.012566</td>\n",
       "      <td>0.996622</td>\n",
       "    </tr>\n",
       "    <tr>\n",
       "      <th>Radio</th>\n",
       "      <td>0.866309</td>\n",
       "      <td>1.000000</td>\n",
       "      <td>0.600406</td>\n",
       "      <td>0.006991</td>\n",
       "      <td>0.866793</td>\n",
       "    </tr>\n",
       "    <tr>\n",
       "      <th>Social Media</th>\n",
       "      <td>0.525166</td>\n",
       "      <td>0.600406</td>\n",
       "      <td>1.000000</td>\n",
       "      <td>0.014139</td>\n",
       "      <td>0.526255</td>\n",
       "    </tr>\n",
       "    <tr>\n",
       "      <th>Influencer</th>\n",
       "      <td>0.012566</td>\n",
       "      <td>0.006991</td>\n",
       "      <td>0.014139</td>\n",
       "      <td>1.000000</td>\n",
       "      <td>0.011141</td>\n",
       "    </tr>\n",
       "    <tr>\n",
       "      <th>Sales</th>\n",
       "      <td>0.996622</td>\n",
       "      <td>0.866793</td>\n",
       "      <td>0.526255</td>\n",
       "      <td>0.011141</td>\n",
       "      <td>1.000000</td>\n",
       "    </tr>\n",
       "  </tbody>\n",
       "</table>\n",
       "</div>"
      ],
      "text/plain": [
       "                    TV     Radio  Social Media  Influencer     Sales\n",
       "TV            1.000000  0.866309      0.525166    0.012566  0.996622\n",
       "Radio         0.866309  1.000000      0.600406    0.006991  0.866793\n",
       "Social Media  0.525166  0.600406      1.000000    0.014139  0.526255\n",
       "Influencer    0.012566  0.006991      0.014139    1.000000  0.011141\n",
       "Sales         0.996622  0.866793      0.526255    0.011141  1.000000"
      ]
     },
     "execution_count": 222,
     "metadata": {},
     "output_type": "execute_result"
    }
   ],
   "source": [
    "corr_matrix = df_marketing_sales.corr()\n",
    "corr_matrix"
   ]
  },
  {
   "cell_type": "code",
   "execution_count": 239,
   "id": "f168874d",
   "metadata": {},
   "outputs": [
    {
     "data": {
      "text/plain": [
       "<Axes: >"
      ]
     },
     "execution_count": 239,
     "metadata": {},
     "output_type": "execute_result"
    },
    {
     "data": {
      "image/png": "[encoded data removed]",
      "text/plain": [
       "<Figure size 640x480 with 2 Axes>"
      ]
     },
     "metadata": {},
     "output_type": "display_data"
    }
   ],
   "source": [
    "sns.heatmap(corr_matrix, annot=True, vmin=-1, vmax=1, cmap='BrBG')"
   ]
  },
  {
   "cell_type": "markdown",
   "id": "8dd057d2",
   "metadata": {},
   "source": [
    "### Feature importance"
   ]
  },
  {
   "cell_type": "code",
   "execution_count": null,
   "id": "cf6a779f",
   "metadata": {},
   "outputs": [],
   "source": [
    "# Random forest code ¿¿¿¿¿¿¿¿¿¿¿¿¿¿"
   ]
  },
  {
   "cell_type": "markdown",
   "id": "8402e79c",
   "metadata": {},
   "source": [
    "## 3. PREDICTING MODELS"
   ]
  },
  {
   "cell_type": "code",
   "execution_count": 248,
   "id": "8aafcb90",
   "metadata": {},
   "outputs": [],
   "source": [
    "y = df_marketing_sales.pop(\"Sales\")"
   ]
  },
  {
   "cell_type": "code",
   "execution_count": 249,
   "id": "ad1e43b2",
   "metadata": {},
   "outputs": [
    {
     "data": {
      "text/html": [
       "<div>\n",
       "<style scoped>\n",
       "    .dataframe tbody tr th:only-of-type {\n",
       "        vertical-align: middle;\n",
       "    }\n",
       "\n",
       "    .dataframe tbody tr th {\n",
       "        vertical-align: top;\n",
       "    }\n",
       "\n",
       "    .dataframe thead th {\n",
       "        text-align: right;\n",
       "    }\n",
       "</style>\n",
       "<table border=\"1\" class=\"dataframe\">\n",
       "  <thead>\n",
       "    <tr style=\"text-align: right;\">\n",
       "      <th></th>\n",
       "      <th>TV</th>\n",
       "      <th>Radio</th>\n",
       "      <th>Social Media</th>\n",
       "      <th>Influencer</th>\n",
       "    </tr>\n",
       "  </thead>\n",
       "  <tbody>\n",
       "    <tr>\n",
       "      <th>0</th>\n",
       "      <td>16.0</td>\n",
       "      <td>6.566231</td>\n",
       "      <td>2.907983</td>\n",
       "      <td>3</td>\n",
       "    </tr>\n",
       "    <tr>\n",
       "      <th>1</th>\n",
       "      <td>13.0</td>\n",
       "      <td>9.237765</td>\n",
       "      <td>2.409567</td>\n",
       "      <td>3</td>\n",
       "    </tr>\n",
       "    <tr>\n",
       "      <th>2</th>\n",
       "      <td>41.0</td>\n",
       "      <td>15.886446</td>\n",
       "      <td>2.913410</td>\n",
       "      <td>3</td>\n",
       "    </tr>\n",
       "    <tr>\n",
       "      <th>3</th>\n",
       "      <td>83.0</td>\n",
       "      <td>30.020028</td>\n",
       "      <td>6.922304</td>\n",
       "      <td>3</td>\n",
       "    </tr>\n",
       "    <tr>\n",
       "      <th>4</th>\n",
       "      <td>15.0</td>\n",
       "      <td>8.437408</td>\n",
       "      <td>1.405998</td>\n",
       "      <td>2</td>\n",
       "    </tr>\n",
       "    <tr>\n",
       "      <th>...</th>\n",
       "      <td>...</td>\n",
       "      <td>...</td>\n",
       "      <td>...</td>\n",
       "      <td>...</td>\n",
       "    </tr>\n",
       "    <tr>\n",
       "      <th>4567</th>\n",
       "      <td>26.0</td>\n",
       "      <td>4.472360</td>\n",
       "      <td>0.717090</td>\n",
       "      <td>2</td>\n",
       "    </tr>\n",
       "    <tr>\n",
       "      <th>4568</th>\n",
       "      <td>71.0</td>\n",
       "      <td>20.610685</td>\n",
       "      <td>6.545573</td>\n",
       "      <td>1</td>\n",
       "    </tr>\n",
       "    <tr>\n",
       "      <th>4569</th>\n",
       "      <td>44.0</td>\n",
       "      <td>19.800072</td>\n",
       "      <td>5.096192</td>\n",
       "      <td>2</td>\n",
       "    </tr>\n",
       "    <tr>\n",
       "      <th>4570</th>\n",
       "      <td>71.0</td>\n",
       "      <td>17.534640</td>\n",
       "      <td>1.940873</td>\n",
       "      <td>4</td>\n",
       "    </tr>\n",
       "    <tr>\n",
       "      <th>4571</th>\n",
       "      <td>42.0</td>\n",
       "      <td>15.966688</td>\n",
       "      <td>5.046548</td>\n",
       "      <td>2</td>\n",
       "    </tr>\n",
       "  </tbody>\n",
       "</table>\n",
       "<p>4543 rows × 4 columns</p>\n",
       "</div>"
      ],
      "text/plain": [
       "        TV      Radio  Social Media  Influencer\n",
       "0     16.0   6.566231      2.907983           3\n",
       "1     13.0   9.237765      2.409567           3\n",
       "2     41.0  15.886446      2.913410           3\n",
       "3     83.0  30.020028      6.922304           3\n",
       "4     15.0   8.437408      1.405998           2\n",
       "...    ...        ...           ...         ...\n",
       "4567  26.0   4.472360      0.717090           2\n",
       "4568  71.0  20.610685      6.545573           1\n",
       "4569  44.0  19.800072      5.096192           2\n",
       "4570  71.0  17.534640      1.940873           4\n",
       "4571  42.0  15.966688      5.046548           2\n",
       "\n",
       "[4543 rows x 4 columns]"
      ]
     },
     "execution_count": 249,
     "metadata": {},
     "output_type": "execute_result"
    }
   ],
   "source": [
    "X"
   ]
  },
  {
   "cell_type": "code",
   "execution_count": 252,
   "id": "71556d1b",
   "metadata": {},
   "outputs": [
    {
     "data": {
      "text/html": [
       "<div>\n",
       "<style scoped>\n",
       "    .dataframe tbody tr th:only-of-type {\n",
       "        vertical-align: middle;\n",
       "    }\n",
       "\n",
       "    .dataframe tbody tr th {\n",
       "        vertical-align: top;\n",
       "    }\n",
       "\n",
       "    .dataframe thead th {\n",
       "        text-align: right;\n",
       "    }\n",
       "</style>\n",
       "<table border=\"1\" class=\"dataframe\">\n",
       "  <thead>\n",
       "    <tr style=\"text-align: right;\">\n",
       "      <th></th>\n",
       "      <th>Sales</th>\n",
       "    </tr>\n",
       "  </thead>\n",
       "  <tbody>\n",
       "    <tr>\n",
       "      <th>0</th>\n",
       "      <td>54.732757</td>\n",
       "    </tr>\n",
       "    <tr>\n",
       "      <th>1</th>\n",
       "      <td>46.677897</td>\n",
       "    </tr>\n",
       "    <tr>\n",
       "      <th>2</th>\n",
       "      <td>150.177829</td>\n",
       "    </tr>\n",
       "    <tr>\n",
       "      <th>3</th>\n",
       "      <td>298.246340</td>\n",
       "    </tr>\n",
       "    <tr>\n",
       "      <th>4</th>\n",
       "      <td>56.594181</td>\n",
       "    </tr>\n",
       "    <tr>\n",
       "      <th>...</th>\n",
       "      <td>...</td>\n",
       "    </tr>\n",
       "    <tr>\n",
       "      <th>4567</th>\n",
       "      <td>94.685866</td>\n",
       "    </tr>\n",
       "    <tr>\n",
       "      <th>4568</th>\n",
       "      <td>249.101915</td>\n",
       "    </tr>\n",
       "    <tr>\n",
       "      <th>4569</th>\n",
       "      <td>163.631457</td>\n",
       "    </tr>\n",
       "    <tr>\n",
       "      <th>4570</th>\n",
       "      <td>253.610411</td>\n",
       "    </tr>\n",
       "    <tr>\n",
       "      <th>4571</th>\n",
       "      <td>148.202414</td>\n",
       "    </tr>\n",
       "  </tbody>\n",
       "</table>\n",
       "<p>4543 rows × 1 columns</p>\n",
       "</div>"
      ],
      "text/plain": [
       "           Sales\n",
       "0      54.732757\n",
       "1      46.677897\n",
       "2     150.177829\n",
       "3     298.246340\n",
       "4      56.594181\n",
       "...          ...\n",
       "4567   94.685866\n",
       "4568  249.101915\n",
       "4569  163.631457\n",
       "4570  253.610411\n",
       "4571  148.202414\n",
       "\n",
       "[4543 rows x 1 columns]"
      ]
     },
     "execution_count": 252,
     "metadata": {},
     "output_type": "execute_result"
    }
   ],
   "source": [
    "pd.DataFrame(y, columns=['Sales'])"
   ]
  },
  {
   "cell_type": "code",
   "execution_count": 253,
   "id": "3b0e0708",
   "metadata": {},
   "outputs": [],
   "source": [
    "# Hold out\n",
    "X_train,X_test,y_train,y_test=train_test_split(X,y,test_size=0.3,random_state=random_seed)"
   ]
  },
  {
   "cell_type": "code",
   "execution_count": 283,
   "id": "456f15b7",
   "metadata": {},
   "outputs": [
    {
     "name": "stdout",
     "output_type": "stream",
     "text": [
      "\n",
      "Partition number 0\n",
      "----------------------\n",
      "Train rows indexs: [   0    4    5 ... 4540 4541 4542]\n",
      "Test rows indexs: [   1    2    3   20   33   41   56   76   84   88   90  102  103  107\n",
      "  112  122  146  150  155  159  163  164  177  192  232  242  247  251\n",
      "  257  266  277  284  286  294  297  298  309  328  354  355  356  367\n",
      "  369  370  379  381  391  406  430  431  437  441  457  477  482  492\n",
      "  504  516  531  542  549  558  599  601  602  604  607  610  613  620\n",
      "  634  635  641  642  645  650  682  692  697  698  705  708  732  741\n",
      "  744  763  771  784  797  810  811  826  834  860  861  871  879  880\n",
      "  881  901  917  925  956  961  963  969 1002 1021 1035 1036 1037 1069\n",
      " 1093 1096 1109 1127 1133 1135 1147 1148 1150 1167 1170 1179 1180 1181\n",
      " 1204 1210 1227 1234 1237 1242 1244 1245 1247 1255 1269 1279 1294 1301\n",
      " 1303 1311 1325 1327 1328 1345 1346 1351 1362 1372 1376 1385 1409 1450\n",
      " 1468 1478 1485 1518 1522 1525 1542 1543 1551 1563 1568 1603 1613 1618\n",
      " 1627 1632 1660 1664 1679 1684 1701 1706 1711 1736 1737 1742 1754 1758\n",
      " 1759 1768 1775 1787 1789 1809 1811 1824 1827 1850 1853 1856 1866 1879\n",
      " 1913 1926 1927 1928 1972 1977 1991 1996 1997 2003 2008 2010 2013 2014\n",
      " 2028 2033 2040 2073 2081 2083 2086 2087 2100 2106 2131 2136 2142 2144\n",
      " 2152 2162 2177 2190 2204 2215 2216 2226 2229 2232 2243 2245 2254 2263\n",
      " 2279 2283 2284 2314 2324 2348 2350 2369 2404 2420 2421 2425 2444 2472\n",
      " 2480 2490 2493 2495 2503 2513 2524 2531 2570 2572 2579 2597 2600 2604\n",
      " 2607 2632 2633 2639 2640 2650 2666 2695 2708 2710 2721 2746 2747 2749\n",
      " 2751 2756 2758 2782 2804 2806 2811 2816 2817 2827 2840 2848 2855 2856\n",
      " 2857 2860 2876 2894 2905 2909 2913 2918 2921 2922 2925 2932 2937 2952\n",
      " 2962 2988 2990 2991 3003 3005 3021 3024 3035 3054 3087 3088 3093 3101\n",
      " 3112 3115 3132 3134 3156 3183 3185 3198 3201 3209 3212 3220 3254 3269\n",
      " 3303 3318 3321 3326 3346 3356 3360 3362 3376 3398 3402 3442 3462 3464\n",
      " 3468 3486 3502 3521 3522 3526 3543 3547 3564 3566 3577 3604 3610 3619\n",
      " 3632 3647 3648 3652 3676 3694 3697 3750 3751 3752 3757 3760 3769 3772\n",
      " 3787 3797 3798 3804 3814 3817 3822 3835 3840 3867 3873 3883 3892 3903\n",
      " 3908 3924 3926 3930 3936 3938 3943 3950 3967 3968 4006 4008 4026 4041\n",
      " 4049 4077 4088 4096 4102 4114 4132 4134 4136 4167 4196 4202 4207 4209\n",
      " 4221 4223 4240 4241 4246 4256 4257 4260 4271 4287 4291 4302 4313 4335\n",
      " 4340 4345 4357 4359 4366 4382 4385 4387 4393 4407 4420 4450 4452 4468\n",
      " 4482 4503 4505 4513 4520 4532 4539]\n",
      "\n",
      "Partition number 1\n",
      "----------------------\n",
      "Train rows indexs: [   0    1    2 ... 4540 4541 4542]\n",
      "Test rows indexs: [   7   13   22   40   57   64   68   78   85  108  109  117  139  145\n",
      "  161  167  171  172  173  175  186  194  208  227  230  248  261  264\n",
      "  278  316  331  341  360  407  410  412  415  426  433  439  464  472\n",
      "  473  479  489  497  512  527  528  530  566  576  580  581  587  588\n",
      "  592  606  611  618  621  626  654  663  675  686  715  723  746  747\n",
      "  750  751  772  773  776  785  802  803  804  822  835  836  838  866\n",
      "  886  892  905  910  943  952  962  974  976  978  981 1003 1023 1030\n",
      " 1041 1045 1048 1053 1073 1082 1094 1099 1103 1107 1110 1116 1123 1141\n",
      " 1153 1157 1165 1183 1187 1193 1206 1207 1225 1230 1233 1263 1266 1278\n",
      " 1299 1329 1347 1350 1356 1382 1396 1410 1414 1417 1421 1446 1474 1491\n",
      " 1496 1506 1530 1548 1550 1553 1555 1573 1574 1578 1602 1608 1614 1624\n",
      " 1625 1640 1651 1667 1717 1726 1733 1738 1764 1766 1778 1786 1802 1803\n",
      " 1810 1814 1817 1831 1851 1854 1859 1869 1890 1892 1898 1903 1908 1920\n",
      " 1934 1940 1949 1975 1979 1987 1999 2007 2018 2038 2041 2067 2090 2104\n",
      " 2108 2146 2150 2159 2172 2182 2185 2189 2194 2203 2217 2219 2233 2272\n",
      " 2305 2306 2308 2332 2357 2359 2390 2391 2400 2403 2416 2418 2426 2432\n",
      " 2433 2434 2435 2448 2462 2478 2481 2491 2498 2502 2521 2522 2550 2561\n",
      " 2569 2571 2577 2580 2581 2611 2612 2616 2617 2620 2626 2644 2645 2651\n",
      " 2661 2669 2670 2688 2715 2726 2729 2753 2767 2829 2830 2832 2864 2877\n",
      " 2881 2902 2938 2946 2959 2961 2968 2973 2978 2987 3010 3013 3014 3015\n",
      " 3018 3025 3049 3062 3073 3075 3096 3105 3106 3108 3110 3123 3142 3143\n",
      " 3155 3157 3160 3161 3167 3172 3177 3184 3186 3193 3205 3218 3224 3237\n",
      " 3239 3265 3267 3271 3285 3293 3324 3332 3344 3347 3359 3365 3372 3379\n",
      " 3380 3384 3388 3393 3418 3424 3426 3443 3456 3463 3479 3483 3484 3494\n",
      " 3504 3507 3512 3524 3536 3542 3557 3562 3584 3592 3596 3609 3617 3620\n",
      " 3626 3630 3633 3636 3639 3643 3659 3663 3674 3686 3690 3692 3700 3701\n",
      " 3705 3745 3780 3782 3789 3803 3853 3858 3862 3869 3904 3910 3912 3913\n",
      " 3919 3923 3929 3933 3940 3969 3973 3974 3979 3986 3992 3997 4001 4013\n",
      " 4015 4022 4027 4028 4037 4040 4048 4057 4067 4075 4098 4099 4100 4112\n",
      " 4120 4122 4129 4146 4151 4152 4157 4159 4160 4165 4176 4177 4180 4185\n",
      " 4192 4211 4213 4214 4234 4237 4238 4244 4253 4255 4262 4274 4278 4286\n",
      " 4294 4298 4304 4307 4326 4327 4338 4365 4386 4388 4392 4395 4435 4441\n",
      " 4447 4492 4499 4501 4506 4516 4533]\n",
      "\n",
      "Partition number 2\n",
      "----------------------\n",
      "Train rows indexs: [   0    1    2 ... 4539 4540 4542]\n",
      "Test rows indexs: [   4   15   19   26   43   45   48   51   52   59   73  116  119  135\n",
      "  148  152  174  211  238  244  246  259  267  280  291  295  300  312\n",
      "  314  322  342  343  350  365  376  383  386  405  420  421  428  438\n",
      "  447  454  461  476  486  487  488  503  509  515  520  521  522  551\n",
      "  552  564  574  593  598  619  637  653  659  664  676  722  726  758\n",
      "  760  788  791  828  848  857  863  867  868  877  890  903  904  909\n",
      "  913  920  927  937  951  954  958  960  975 1007 1008 1009 1020 1042\n",
      " 1043 1047 1052 1077 1078 1079 1080 1090 1091 1122 1125 1129 1132 1136\n",
      " 1138 1145 1197 1205 1216 1241 1253 1267 1276 1284 1285 1287 1316 1324\n",
      " 1337 1378 1380 1381 1392 1400 1402 1412 1420 1427 1430 1441 1443 1457\n",
      " 1465 1470 1480 1498 1500 1502 1507 1523 1541 1554 1562 1569 1572 1577\n",
      " 1582 1584 1611 1620 1623 1653 1672 1675 1686 1696 1697 1702 1739 1740\n",
      " 1749 1753 1755 1760 1774 1782 1783 1785 1795 1798 1801 1816 1826 1860\n",
      " 1871 1887 1891 1893 1907 1919 1937 1963 1974 2002 2015 2017 2020 2026\n",
      " 2030 2032 2044 2060 2061 2063 2069 2070 2084 2098 2114 2117 2120 2125\n",
      " 2140 2147 2165 2175 2179 2180 2181 2207 2220 2234 2249 2268 2291 2294\n",
      " 2296 2303 2322 2326 2328 2344 2345 2358 2363 2371 2378 2424 2442 2452\n",
      " 2453 2469 2471 2484 2485 2488 2499 2504 2509 2516 2519 2526 2529 2536\n",
      " 2552 2557 2575 2592 2619 2638 2641 2647 2655 2657 2659 2676 2679 2680\n",
      " 2683 2684 2685 2693 2694 2727 2730 2759 2761 2779 2812 2839 2846 2850\n",
      " 2861 2866 2872 2879 2882 2899 2912 2919 2923 2930 2940 2942 2943 2951\n",
      " 2953 2956 2957 2960 2966 2998 3000 3004 3017 3019 3023 3032 3033 3051\n",
      " 3056 3059 3061 3071 3079 3089 3111 3113 3114 3121 3146 3148 3149 3165\n",
      " 3174 3191 3197 3199 3203 3213 3230 3232 3235 3241 3251 3257 3261 3275\n",
      " 3287 3343 3348 3371 3374 3382 3387 3391 3396 3399 3403 3404 3405 3419\n",
      " 3446 3465 3467 3469 3473 3475 3501 3509 3511 3518 3520 3527 3555 3568\n",
      " 3572 3579 3591 3594 3597 3628 3637 3638 3655 3658 3668 3670 3680 3684\n",
      " 3695 3699 3712 3720 3736 3748 3756 3766 3795 3806 3818 3825 3827 3830\n",
      " 3834 3843 3851 3863 3875 3887 3897 3911 3953 3960 3990 3993 4011 4017\n",
      " 4019 4024 4029 4055 4081 4082 4086 4103 4115 4119 4128 4131 4145 4147\n",
      " 4170 4173 4183 4198 4219 4225 4231 4232 4254 4259 4301 4311 4318 4319\n",
      " 4320 4339 4342 4355 4360 4362 4367 4383 4397 4411 4418 4421 4422 4445\n",
      " 4449 4467 4469 4498 4523 4525 4541]\n",
      "\n",
      "Partition number 3\n",
      "----------------------\n",
      "Train rows indexs: [   0    1    2 ... 4540 4541 4542]\n",
      "Test rows indexs: [  12   21   24   27   32   39   49   50   65   67   75   95   96  118\n",
      "  125  158  162  193  196  197  199  204  212  223  235  253  265  273\n",
      "  276  281  296  299  301  311  313  315  324  325  389  394  395  418\n",
      "  440  449  452  469  475  501  506  524  559  563  605  608  622  624\n",
      "  625  629  647  651  656  657  665  666  669  685  689  701  716  720\n",
      "  721  730  735  737  748  752  756  779  793  799  809  820  840  842\n",
      "  856  864  875  883  888  891  897  900  906  918  929  964  966  984\n",
      " 1004 1015 1031 1039 1061 1065 1084 1085 1086 1089 1101 1114 1118 1146\n",
      " 1155 1163 1168 1169 1171 1174 1177 1184 1215 1220 1221 1228 1240 1248\n",
      " 1249 1252 1258 1261 1273 1275 1280 1286 1292 1298 1312 1348 1349 1358\n",
      " 1360 1361 1368 1371 1388 1404 1405 1408 1413 1415 1422 1431 1447 1469\n",
      " 1473 1475 1484 1497 1503 1511 1526 1528 1535 1538 1557 1564 1567 1593\n",
      " 1606 1607 1616 1621 1626 1633 1644 1646 1657 1658 1669 1699 1724 1765\n",
      " 1770 1771 1772 1797 1800 1836 1840 1858 1873 1885 1888 1896 1902 1906\n",
      " 1924 1930 1932 1946 1947 1950 1958 1959 1961 1973 1985 1988 2005 2012\n",
      " 2023 2025 2037 2046 2051 2071 2079 2089 2109 2112 2113 2127 2128 2132\n",
      " 2148 2153 2154 2155 2178 2184 2193 2199 2206 2209 2210 2224 2225 2236\n",
      " 2240 2242 2258 2270 2295 2319 2346 2347 2372 2383 2387 2394 2401 2408\n",
      " 2409 2412 2428 2436 2456 2460 2465 2466 2483 2517 2525 2528 2538 2548\n",
      " 2551 2565 2576 2578 2582 2587 2595 2601 2613 2635 2636 2649 2652 2671\n",
      " 2698 2719 2723 2724 2732 2741 2743 2760 2762 2771 2783 2788 2799 2801\n",
      " 2818 2836 2854 2858 2865 2867 2875 2886 2892 2934 2958 2964 2976 2997\n",
      " 3006 3042 3053 3068 3070 3104 3122 3126 3133 3150 3163 3171 3173 3187\n",
      " 3188 3189 3194 3196 3202 3206 3225 3234 3238 3252 3256 3264 3273 3284\n",
      " 3296 3297 3309 3328 3350 3355 3358 3368 3378 3383 3397 3400 3409 3411\n",
      " 3412 3428 3436 3450 3451 3477 3493 3503 3525 3531 3533 3541 3544 3552\n",
      " 3558 3570 3587 3588 3590 3598 3606 3624 3631 3634 3635 3654 3661 3672\n",
      " 3713 3723 3732 3742 3759 3763 3786 3800 3820 3829 3839 3842 3846 3852\n",
      " 3876 3885 3886 3931 3932 3954 3955 3980 3981 3983 3989 4002 4003 4032\n",
      " 4035 4036 4045 4047 4052 4070 4073 4101 4155 4161 4168 4187 4197 4224\n",
      " 4230 4233 4239 4250 4251 4252 4261 4266 4280 4281 4283 4300 4303 4310\n",
      " 4325 4331 4341 4344 4347 4349 4351 4353 4372 4374 4378 4456 4459 4460\n",
      " 4464 4465 4479 4495 4521 4530]\n",
      "\n",
      "Partition number 4\n",
      "----------------------\n",
      "Train rows indexs: [   1    2    3 ... 4540 4541 4542]\n",
      "Test rows indexs: [   0    5    6   18   25   30   63   66   69   79   83   87   92   93\n",
      "   97  121  124  128  130  134  140  153  156  179  183  190  217  229\n",
      "  258  289  323  330  332  346  378  380  396  399  400  434  468  485\n",
      "  491  508  518  525  532  539  554  561  562  573  577  583  586  600\n",
      "  609  638  644  648  649  667  678  679  683  684  700  745  761  774\n",
      "  789  815  825  832  833  837  847  854  869  878  882  902  908  916\n",
      "  919  921  930  935  936  938  939  940  941  944  948  959  970  982\n",
      "  991 1010 1018 1032 1033 1040 1060 1068 1097 1102 1105 1108 1121 1158\n",
      " 1162 1188 1189 1192 1199 1208 1274 1295 1302 1314 1317 1321 1323 1333\n",
      " 1343 1355 1359 1365 1374 1390 1399 1451 1452 1454 1455 1456 1472 1479\n",
      " 1486 1493 1499 1517 1529 1532 1534 1547 1559 1581 1585 1589 1594 1595\n",
      " 1628 1634 1635 1639 1650 1655 1656 1659 1661 1666 1668 1681 1705 1714\n",
      " 1716 1745 1747 1767 1780 1812 1820 1821 1833 1852 1865 1882 1883 1901\n",
      " 1904 1914 1922 1933 1939 1944 1968 1971 1980 1983 1984 1994 1998 2016\n",
      " 2019 2022 2042 2045 2048 2049 2057 2072 2076 2078 2082 2088 2091 2093\n",
      " 2095 2103 2107 2122 2130 2138 2156 2157 2186 2188 2196 2202 2208 2230\n",
      " 2259 2267 2278 2281 2282 2290 2300 2316 2341 2393 2395 2402 2406 2415\n",
      " 2419 2422 2431 2441 2443 2451 2454 2482 2486 2497 2500 2508 2511 2514\n",
      " 2515 2542 2553 2554 2558 2615 2625 2643 2699 2707 2711 2717 2720 2725\n",
      " 2736 2755 2765 2772 2793 2797 2800 2810 2821 2824 2834 2841 2842 2853\n",
      " 2880 2901 2926 2929 2939 2955 2970 2980 2986 2994 2996 3016 3022 3043\n",
      " 3048 3081 3085 3097 3099 3100 3107 3118 3125 3138 3139 3162 3178 3195\n",
      " 3208 3223 3228 3243 3244 3258 3263 3272 3277 3280 3302 3307 3312 3320\n",
      " 3349 3373 3385 3386 3389 3423 3430 3432 3440 3441 3448 3452 3454 3470\n",
      " 3481 3488 3498 3499 3517 3530 3538 3546 3550 3553 3569 3589 3602 3608\n",
      " 3613 3616 3618 3621 3622 3649 3657 3664 3666 3703 3704 3710 3716 3727\n",
      " 3729 3731 3738 3743 3755 3758 3761 3770 3773 3784 3812 3815 3824 3831\n",
      " 3841 3847 3850 3871 3884 3895 3907 3918 3921 3927 3975 3991 3999 4016\n",
      " 4021 4030 4039 4043 4050 4051 4056 4059 4079 4084 4105 4126 4130 4137\n",
      " 4143 4150 4181 4182 4190 4206 4215 4216 4217 4226 4263 4270 4279 4293\n",
      " 4295 4305 4306 4312 4316 4317 4323 4328 4334 4358 4368 4375 4380 4408\n",
      " 4419 4426 4432 4434 4436 4437 4440 4453 4462 4475 4480 4484 4489 4494\n",
      " 4496 4500 4514 4517 4522 4535]\n",
      "\n",
      "Partition number 5\n",
      "----------------------\n",
      "Train rows indexs: [   0    1    2 ... 4540 4541 4542]\n",
      "Test rows indexs: [   9   14   35   36   61   81  106  114  120  127  144  154  165  166\n",
      "  176  180  182  184  185  198  202  210  216  218  220  224  231  236\n",
      "  241  245  249  250  262  268  274  275  279  283  307  308  317  318\n",
      "  320  329  348  351  361  375  377  401  413  444  455  456  470  483\n",
      "  490  495  496  500  511  517  536  546  557  589  590  591  595  597\n",
      "  612  616  628  630  631  632  633  640  643  658  670  671  674  687\n",
      "  690  702  710  712  718  719  725  731  736  738  740  753  754  775\n",
      "  777  786  794  800  801  830  859  865  873  895  896  911  912  928\n",
      "  945  949  950  955  971  983  994  997 1011 1012 1014 1016 1034 1051\n",
      " 1055 1056 1083 1128 1134 1137 1142 1151 1154 1156 1178 1200 1212 1260\n",
      " 1262 1288 1289 1308 1334 1339 1340 1344 1352 1367 1386 1391 1406 1435\n",
      " 1440 1448 1453 1462 1464 1482 1488 1509 1514 1515 1536 1560 1588 1596\n",
      " 1605 1622 1629 1630 1637 1649 1652 1670 1674 1680 1688 1690 1703 1719\n",
      " 1727 1735 1763 1776 1777 1781 1796 1807 1815 1818 1825 1829 1835 1844\n",
      " 1863 1867 1876 1880 1881 1895 1910 1916 1929 1931 1935 1941 1942 1948\n",
      " 1957 1970 1982 1992 1995 2004 2027 2034 2062 2068 2077 2119 2121 2163\n",
      " 2164 2173 2187 2201 2221 2228 2241 2251 2253 2274 2275 2288 2292 2293\n",
      " 2297 2298 2313 2315 2320 2331 2338 2366 2368 2379 2381 2389 2397 2417\n",
      " 2439 2455 2457 2474 2496 2501 2510 2520 2527 2533 2535 2543 2544 2545\n",
      " 2549 2560 2562 2585 2588 2590 2606 2623 2627 2628 2637 2658 2662 2663\n",
      " 2686 2696 2701 2702 2703 2714 2738 2739 2740 2745 2757 2775 2787 2791\n",
      " 2794 2803 2815 2823 2831 2837 2851 2868 2887 2890 2903 2924 2933 2995\n",
      " 3007 3055 3060 3065 3069 3086 3090 3095 3128 3136 3144 3145 3147 3158\n",
      " 3168 3176 3180 3190 3227 3233 3242 3246 3255 3262 3268 3281 3305 3310\n",
      " 3313 3315 3317 3327 3335 3338 3339 3364 3369 3370 3395 3406 3416 3429\n",
      " 3431 3472 3490 3506 3515 3519 3549 3561 3571 3580 3601 3625 3629 3653\n",
      " 3665 3698 3711 3714 3735 3741 3746 3749 3762 3774 3777 3783 3785 3791\n",
      " 3796 3805 3808 3823 3833 3848 3866 3879 3896 3901 3902 3917 3920 3925\n",
      " 3951 3959 3963 3966 3970 3971 3982 3985 4010 4014 4023 4031 4033 4044\n",
      " 4046 4053 4062 4063 4074 4085 4090 4106 4109 4111 4117 4118 4127 4133\n",
      " 4135 4156 4162 4203 4204 4236 4243 4264 4265 4288 4315 4321 4322 4329\n",
      " 4348 4350 4364 4373 4377 4399 4412 4413 4423 4424 4433 4439 4458 4472\n",
      " 4476 4488 4491 4504 4508 4537]\n",
      "\n",
      "Partition number 6\n",
      "----------------------\n",
      "Train rows indexs: [   0    1    2 ... 4540 4541 4542]\n",
      "Test rows indexs: [  31   34   44   60   82   86   89   94   99  100  101  110  129  191\n",
      "  209  226  233  240  254  256  263  285  287  310  321  326  327  333\n",
      "  334  336  344  363  372  390  393  424  425  429  436  443  445  448\n",
      "  451  458  462  467  478  505  514  523  535  537  540  544  545  556\n",
      "  560  568  572  575  585  603  614  615  646  660  662  672  673  681\n",
      "  691  696  711  733  764  769  778  783  790  795  798  807  808  812\n",
      "  814  821  827  841  845  846  872  874  884  887  894  899  973  979\n",
      "  980  993  995 1017 1027 1029 1038 1049 1062 1066 1071 1081 1088 1092\n",
      " 1112 1117 1130 1140 1161 1164 1172 1213 1226 1231 1232 1239 1246 1254\n",
      " 1264 1265 1271 1281 1282 1290 1293 1296 1297 1305 1315 1330 1335 1357\n",
      " 1366 1373 1384 1387 1389 1397 1449 1461 1494 1495 1504 1508 1524 1527\n",
      " 1540 1544 1545 1565 1566 1586 1597 1598 1641 1643 1645 1665 1691 1700\n",
      " 1728 1729 1731 1734 1746 1748 1752 1756 1773 1779 1805 1819 1837 1841\n",
      " 1842 1874 1875 1886 1889 1900 1905 1909 1915 1918 1921 1925 1951 1956\n",
      " 1964 1976 2000 2001 2029 2036 2043 2058 2074 2085 2092 2111 2124 2139\n",
      " 2145 2158 2192 2195 2198 2200 2218 2223 2235 2239 2256 2257 2262 2271\n",
      " 2276 2277 2317 2323 2343 2351 2355 2360 2365 2367 2373 2375 2399 2407\n",
      " 2413 2414 2427 2438 2445 2450 2458 2463 2467 2468 2507 2518 2523 2530\n",
      " 2537 2541 2567 2586 2589 2599 2605 2614 2646 2648 2660 2664 2665 2667\n",
      " 2668 2672 2673 2681 2689 2690 2731 2737 2748 2750 2754 2764 2778 2785\n",
      " 2795 2808 2813 2822 2826 2833 2835 2847 2859 2884 2893 2897 2898 2908\n",
      " 2910 2911 2916 2928 2935 2941 2944 2954 2977 2979 2981 2985 2999 3001\n",
      " 3002 3020 3027 3031 3034 3036 3040 3041 3044 3064 3066 3067 3072 3074\n",
      " 3080 3083 3084 3116 3127 3129 3135 3152 3159 3164 3217 3219 3222 3249\n",
      " 3250 3290 3295 3300 3308 3363 3367 3421 3476 3495 3497 3516 3532 3539\n",
      " 3551 3565 3574 3575 3583 3593 3605 3627 3671 3677 3683 3685 3689 3702\n",
      " 3725 3737 3739 3768 3775 3790 3807 3810 3838 3845 3857 3868 3870 3872\n",
      " 3877 3888 3899 3906 3915 3922 3937 3946 3949 3956 3957 3958 3965 3977\n",
      " 3984 3987 4012 4020 4061 4064 4065 4066 4069 4071 4072 4089 4095 4097\n",
      " 4107 4108 4113 4123 4139 4140 4142 4144 4158 4205 4210 4227 4228 4235\n",
      " 4245 4269 4272 4276 4284 4290 4309 4314 4336 4337 4352 4356 4363 4381\n",
      " 4391 4398 4409 4415 4427 4429 4431 4442 4444 4451 4457 4463 4471 4478\n",
      " 4483 4486 4493 4511 4528 4536]\n",
      "\n",
      "Partition number 7\n",
      "----------------------\n",
      "Train rows indexs: [   0    1    2 ... 4539 4540 4541]\n",
      "Test rows indexs: [  23   47   54   71   77  104  111  113  115  126  142  147  149  151\n",
      "  157  168  188  195  200  201  203  221  225  234  243  255  269  270\n",
      "  302  305  306  335  352  374  382  397  398  404  409  414  419  427\n",
      "  432  435  446  453  463  474  480  493  499  502  507  547  567  569\n",
      "  570  579  617  639  677  688  693  703  706  707  709  728  742  768\n",
      "  781  782  816  824  829  831  844  855  858  862  889  907  922  924\n",
      "  946  957  967  977  990  992  999 1005 1013 1024 1028 1058 1059 1064\n",
      " 1070 1072 1076 1098 1104 1115 1119 1124 1126 1149 1190 1191 1194 1198\n",
      " 1202 1209 1222 1243 1250 1251 1272 1277 1300 1304 1313 1318 1320 1336\n",
      " 1341 1342 1354 1363 1375 1379 1383 1394 1398 1407 1411 1418 1428 1436\n",
      " 1437 1438 1442 1460 1467 1487 1489 1492 1501 1512 1513 1519 1533 1537\n",
      " 1539 1546 1552 1579 1580 1591 1599 1600 1601 1610 1615 1617 1619 1631\n",
      " 1662 1682 1683 1687 1689 1692 1694 1695 1704 1707 1710 1722 1725 1743\n",
      " 1751 1769 1784 1790 1793 1799 1804 1806 1808 1823 1846 1862 1864 1872\n",
      " 1884 1894 1936 1938 1962 1965 1966 1978 1989 1990 1993 2024 2031 2052\n",
      " 2054 2056 2080 2094 2096 2101 2115 2123 2126 2134 2135 2151 2166 2167\n",
      " 2183 2205 2227 2237 2248 2286 2289 2301 2311 2318 2330 2333 2334 2337\n",
      " 2339 2342 2364 2370 2374 2382 2385 2386 2388 2396 2410 2411 2423 2459\n",
      " 2470 2473 2475 2477 2479 2489 2506 2546 2555 2583 2591 2594 2598 2608\n",
      " 2621 2631 2674 2675 2678 2687 2692 2706 2709 2712 2752 2766 2769 2773\n",
      " 2780 2784 2792 2796 2820 2845 2883 2885 2900 2904 2906 2907 2984 2989\n",
      " 2993 3008 3030 3037 3038 3039 3045 3046 3058 3117 3153 3175 3192 3207\n",
      " 3211 3215 3229 3236 3245 3253 3266 3276 3286 3291 3298 3304 3329 3331\n",
      " 3336 3345 3351 3354 3361 3407 3408 3410 3415 3420 3422 3425 3433 3449\n",
      " 3466 3478 3489 3492 3505 3508 3510 3523 3529 3534 3535 3537 3556 3578\n",
      " 3585 3586 3595 3607 3612 3640 3642 3645 3651 3675 3678 3706 3707 3708\n",
      " 3717 3718 3740 3744 3753 3765 3781 3788 3792 3793 3794 3802 3811 3819\n",
      " 3821 3832 3844 3849 3854 3859 3860 3864 3865 3881 3882 3894 3900 3909\n",
      " 3934 3935 3944 3945 3964 3972 3976 3988 3995 3996 3998 4005 4007 4038\n",
      " 4042 4076 4083 4093 4104 4148 4154 4164 4166 4172 4201 4208 4218 4222\n",
      " 4229 4275 4285 4297 4299 4308 4333 4346 4361 4369 4370 4371 4379 4384\n",
      " 4403 4404 4405 4406 4410 4414 4425 4430 4455 4461 4474 4481 4485 4490\n",
      " 4497 4502 4518 4529 4538 4542]\n",
      "\n",
      "Partition number 8\n",
      "----------------------\n",
      "Train rows indexs: [   0    1    2 ... 4540 4541 4542]\n",
      "Test rows indexs: [  17   28   42   70   80   91  123  132  136  137  138  141  143  160\n",
      "  170  178  187  189  205  222  228  239  288  290  292  293  345  347\n",
      "  349  353  359  364  366  368  373  384  387  392  403  411  417  422\n",
      "  442  450  459  460  471  481  494  498  510  526  533  534  543  550\n",
      "  553  555  571  578  594  627  636  655  661  668  680  695  704  714\n",
      "  727  734  755  759  767  770  792  805  806  813  817  823  849  851\n",
      "  853  870  876  893  923  926  932  934  953  965  972  986  989  996\n",
      " 1001 1019 1022 1026 1046 1050 1054 1057 1067 1074 1075 1087 1106 1111\n",
      " 1113 1139 1152 1160 1185 1186 1195 1196 1211 1214 1217 1219 1224 1236\n",
      " 1257 1283 1306 1307 1322 1326 1353 1364 1369 1395 1401 1419 1424 1425\n",
      " 1429 1432 1439 1444 1445 1459 1463 1466 1471 1477 1481 1510 1521 1549\n",
      " 1570 1571 1575 1576 1583 1590 1609 1638 1648 1671 1673 1678 1709 1712\n",
      " 1715 1718 1721 1723 1732 1741 1750 1757 1761 1762 1791 1792 1794 1828\n",
      " 1838 1839 1843 1845 1847 1849 1857 1861 1877 1878 1899 1911 1912 1945\n",
      " 1953 1954 1955 1960 1967 2009 2011 2055 2066 2097 2099 2105 2133 2141\n",
      " 2143 2160 2171 2174 2176 2211 2212 2213 2246 2252 2255 2261 2269 2273\n",
      " 2285 2299 2302 2307 2309 2312 2325 2329 2335 2340 2349 2352 2354 2376\n",
      " 2377 2380 2384 2429 2430 2449 2461 2476 2505 2512 2532 2539 2559 2563\n",
      " 2564 2566 2584 2602 2603 2622 2624 2629 2630 2634 2697 2700 2704 2713\n",
      " 2718 2728 2735 2742 2763 2768 2776 2786 2789 2790 2798 2802 2814 2819\n",
      " 2828 2838 2849 2852 2871 2874 2889 2895 2914 2915 2931 2948 2950 2963\n",
      " 2965 2971 2972 2974 2975 2983 2992 3012 3026 3029 3047 3052 3057 3063\n",
      " 3077 3078 3091 3092 3094 3098 3102 3103 3124 3137 3151 3166 3170 3200\n",
      " 3210 3214 3247 3270 3274 3301 3311 3330 3334 3337 3340 3341 3342 3357\n",
      " 3366 3375 3377 3381 3390 3434 3435 3437 3438 3439 3444 3445 3447 3453\n",
      " 3455 3458 3459 3460 3461 3471 3480 3485 3500 3513 3528 3554 3560 3573\n",
      " 3576 3581 3582 3600 3614 3623 3656 3660 3673 3679 3681 3687 3691 3693\n",
      " 3696 3709 3719 3721 3722 3733 3734 3747 3767 3779 3799 3813 3816 3837\n",
      " 3856 3880 3889 3890 3891 3898 3905 3916 3942 3948 3961 3962 4004 4009\n",
      " 4025 4034 4060 4078 4091 4116 4124 4141 4149 4175 4178 4186 4188 4189\n",
      " 4191 4194 4195 4199 4212 4220 4242 4247 4249 4258 4282 4289 4292 4330\n",
      " 4343 4354 4376 4389 4390 4396 4400 4416 4417 4428 4438 4473 4477 4507\n",
      " 4510 4512 4515 4526 4531 4534]\n",
      "\n",
      "Partition number 9\n",
      "----------------------\n",
      "Train rows indexs: [   0    1    2 ... 4539 4541 4542]\n",
      "Test rows indexs: [   8   10   11   16   29   37   38   46   53   55   58   62   72   74\n",
      "   98  105  131  133  169  181  206  207  213  214  215  219  237  252\n",
      "  260  271  272  282  303  304  319  337  338  339  340  357  358  362\n",
      "  371  385  388  402  408  416  423  465  466  484  513  519  529  538\n",
      "  541  548  565  582  584  596  623  652  694  699  713  717  724  729\n",
      "  739  743  749  757  762  765  766  780  787  796  818  819  839  843\n",
      "  850  852  885  898  914  915  931  933  942  947  968  985  987  988\n",
      "  998 1000 1006 1025 1044 1063 1095 1100 1120 1131 1143 1144 1159 1166\n",
      " 1173 1175 1176 1182 1201 1203 1218 1223 1229 1235 1238 1256 1259 1268\n",
      " 1270 1291 1309 1310 1319 1331 1332 1338 1370 1377 1393 1403 1416 1423\n",
      " 1426 1433 1434 1458 1476 1483 1490 1505 1516 1520 1531 1556 1558 1561\n",
      " 1587 1592 1604 1612 1636 1642 1647 1654 1663 1676 1677 1685 1693 1698\n",
      " 1708 1713 1720 1730 1744 1788 1813 1822 1830 1832 1834 1848 1855 1868\n",
      " 1870 1897 1917 1923 1943 1952 1969 1981 1986 2006 2021 2035 2039 2047\n",
      " 2050 2053 2059 2064 2065 2075 2102 2110 2116 2118 2129 2137 2149 2161\n",
      " 2168 2169 2170 2191 2197 2214 2222 2231 2238 2244 2247 2250 2260 2264\n",
      " 2265 2266 2280 2287 2304 2310 2321 2327 2336 2353 2356 2361 2362 2392\n",
      " 2398 2405 2437 2440 2446 2447 2464 2487 2492 2494 2534 2540 2547 2556\n",
      " 2568 2573 2574 2593 2596 2609 2610 2618 2642 2653 2654 2656 2677 2682\n",
      " 2691 2705 2716 2722 2733 2734 2744 2770 2774 2777 2781 2805 2807 2809\n",
      " 2825 2843 2844 2862 2863 2869 2870 2873 2878 2888 2891 2896 2917 2920\n",
      " 2927 2936 2945 2947 2949 2967 2969 2982 3009 3011 3028 3050 3076 3082\n",
      " 3109 3119 3120 3130 3131 3140 3141 3154 3169 3179 3181 3182 3204 3216\n",
      " 3221 3226 3231 3240 3248 3259 3260 3278 3279 3282 3283 3288 3289 3292\n",
      " 3294 3299 3306 3314 3316 3319 3322 3323 3325 3333 3352 3353 3392 3394\n",
      " 3401 3413 3414 3417 3427 3457 3474 3482 3487 3491 3496 3514 3540 3545\n",
      " 3548 3559 3563 3567 3599 3603 3611 3615 3641 3644 3646 3650 3662 3667\n",
      " 3669 3682 3688 3715 3724 3726 3728 3730 3754 3764 3771 3776 3778 3801\n",
      " 3809 3826 3828 3836 3855 3861 3874 3878 3893 3914 3928 3939 3941 3947\n",
      " 3952 3978 3994 4000 4018 4054 4058 4068 4080 4087 4092 4094 4110 4121\n",
      " 4125 4138 4153 4163 4169 4171 4174 4179 4184 4193 4200 4248 4267 4268\n",
      " 4273 4277 4296 4324 4332 4394 4401 4402 4443 4446 4448 4454 4466 4470\n",
      " 4487 4509 4519 4524 4527 4540]\n"
     ]
    }
   ],
   "source": [
    "# Particiones para cross validation\n",
    "kfold = KFold(n_splits=10,shuffle=True, random_state=random_seed)\n",
    "for i, (train_index, test_index) in enumerate(kfold.split(X)):\n",
    "    print(\"\\nPartition number\",i)\n",
    "    print(\"----------------------\")\n",
    "    print(\"Train rows indexs:\", train_index)\n",
    "    print(\"Test rows indexs:\", test_index)"
   ]
  },
  {
   "cell_type": "markdown",
   "id": "0ec21e04",
   "metadata": {},
   "source": [
    "### Regresión lineal"
   ]
  },
  {
   "cell_type": "code",
   "execution_count": 255,
   "id": "3aacc22e",
   "metadata": {},
   "outputs": [
    {
     "data": {
      "text/html": [
       "<style>#sk-container-id-9 {color: black;background-color: white;}#sk-container-id-9 pre{padding: 0;}#sk-container-id-9 div.sk-toggleable {background-color: white;}#sk-container-id-9 label.sk-toggleable__label {cursor: pointer;display: block;width: 100%;margin-bottom: 0;padding: 0.3em;box-sizing: border-box;text-align: center;}#sk-container-id-9 label.sk-toggleable__label-arrow:before {content: \"▸\";float: left;margin-right: 0.25em;color: #696969;}#sk-container-id-9 label.sk-toggleable__label-arrow:hover:before {color: black;}#sk-container-id-9 div.sk-estimator:hover label.sk-toggleable__label-arrow:before {color: black;}#sk-container-id-9 div.sk-toggleable__content {max-height: 0;max-width: 0;overflow: hidden;text-align: left;background-color: #f0f8ff;}#sk-container-id-9 div.sk-toggleable__content pre {margin: 0.2em;color: black;border-radius: 0.25em;background-color: #f0f8ff;}#sk-container-id-9 input.sk-toggleable__control:checked~div.sk-toggleable__content {max-height: 200px;max-width: 100%;overflow: auto;}#sk-container-id-9 input.sk-toggleable__control:checked~label.sk-toggleable__label-arrow:before {content: \"▾\";}#sk-container-id-9 div.sk-estimator input.sk-toggleable__control:checked~label.sk-toggleable__label {background-color: #d4ebff;}#sk-container-id-9 div.sk-label input.sk-toggleable__control:checked~label.sk-toggleable__label {background-color: #d4ebff;}#sk-container-id-9 input.sk-hidden--visually {border: 0;clip: rect(1px 1px 1px 1px);clip: rect(1px, 1px, 1px, 1px);height: 1px;margin: -1px;overflow: hidden;padding: 0;position: absolute;width: 1px;}#sk-container-id-9 div.sk-estimator {font-family: monospace;background-color: #f0f8ff;border: 1px dotted black;border-radius: 0.25em;box-sizing: border-box;margin-bottom: 0.5em;}#sk-container-id-9 div.sk-estimator:hover {background-color: #d4ebff;}#sk-container-id-9 div.sk-parallel-item::after {content: \"\";width: 100%;border-bottom: 1px solid gray;flex-grow: 1;}#sk-container-id-9 div.sk-label:hover label.sk-toggleable__label {background-color: #d4ebff;}#sk-container-id-9 div.sk-serial::before {content: \"\";position: absolute;border-left: 1px solid gray;box-sizing: border-box;top: 0;bottom: 0;left: 50%;z-index: 0;}#sk-container-id-9 div.sk-serial {display: flex;flex-direction: column;align-items: center;background-color: white;padding-right: 0.2em;padding-left: 0.2em;position: relative;}#sk-container-id-9 div.sk-item {position: relative;z-index: 1;}#sk-container-id-9 div.sk-parallel {display: flex;align-items: stretch;justify-content: center;background-color: white;position: relative;}#sk-container-id-9 div.sk-item::before, #sk-container-id-9 div.sk-parallel-item::before {content: \"\";position: absolute;border-left: 1px solid gray;box-sizing: border-box;top: 0;bottom: 0;left: 50%;z-index: -1;}#sk-container-id-9 div.sk-parallel-item {display: flex;flex-direction: column;z-index: 1;position: relative;background-color: white;}#sk-container-id-9 div.sk-parallel-item:first-child::after {align-self: flex-end;width: 50%;}#sk-container-id-9 div.sk-parallel-item:last-child::after {align-self: flex-start;width: 50%;}#sk-container-id-9 div.sk-parallel-item:only-child::after {width: 0;}#sk-container-id-9 div.sk-dashed-wrapped {border: 1px dashed gray;margin: 0 0.4em 0.5em 0.4em;box-sizing: border-box;padding-bottom: 0.4em;background-color: white;}#sk-container-id-9 div.sk-label label {font-family: monospace;font-weight: bold;display: inline-block;line-height: 1.2em;}#sk-container-id-9 div.sk-label-container {text-align: center;}#sk-container-id-9 div.sk-container {/* jupyter's `normalize.less` sets `[hidden] { display: none; }` but bootstrap.min.css set `[hidden] { display: none !important; }` so we also need the `!important` here to be able to override the default hidden behavior on the sphinx rendered scikit-learn.org. See: https://github.com/scikit-learn/scikit-learn/issues/21755 */display: inline-block !important;position: relative;}#sk-container-id-9 div.sk-text-repr-fallback {display: none;}</style><div id=\"sk-container-id-9\" class=\"sk-top-container\"><div class=\"sk-text-repr-fallback\"><pre>LinearRegression()</pre><b>In a Jupyter environment, please rerun this cell to show the HTML representation or trust the notebook. <br />On GitHub, the HTML representation is unable to render, please try loading this page with nbviewer.org.</b></div><div class=\"sk-container\" hidden><div class=\"sk-item\"><div class=\"sk-estimator sk-toggleable\"><input class=\"sk-toggleable__control sk-hidden--visually\" id=\"sk-estimator-id-9\" type=\"checkbox\" checked><label for=\"sk-estimator-id-9\" class=\"sk-toggleable__label sk-toggleable__label-arrow\">LinearRegression</label><div class=\"sk-toggleable__content\"><pre>LinearRegression()</pre></div></div></div></div></div>"
      ],
      "text/plain": [
       "LinearRegression()"
      ]
     },
     "execution_count": 255,
     "metadata": {},
     "output_type": "execute_result"
    }
   ],
   "source": [
    "lreg = LinearRegression()\n",
    "lreg.fit(X_train, y_train)"
   ]
  },
  {
   "cell_type": "code",
   "execution_count": 256,
   "id": "fceac8fa",
   "metadata": {},
   "outputs": [
    {
     "data": {
      "text/plain": [
       "array([ 93.25193049, 354.9304834 , 163.60513626, ..., 206.6551706 ,\n",
       "        39.30774411,  85.08929731])"
      ]
     },
     "execution_count": 256,
     "metadata": {},
     "output_type": "execute_result"
    }
   ],
   "source": [
    "lreg.predict(X_test)"
   ]
  },
  {
   "cell_type": "code",
   "execution_count": 262,
   "id": "f1b8c7ac",
   "metadata": {},
   "outputs": [
    {
     "name": "stdout",
     "output_type": "stream",
     "text": [
      "Modelo lineal obtenido: \n",
      "sales = 0.58 + 3.51 * TV + 0.11 * Radio + 0.06 * SocialMedia + -0.10 * Influencer\n"
     ]
    }
   ],
   "source": [
    "print(\"Modelo lineal obtenido: \\nsales = {:.2f} + {:.2f} * TV + {:.2f} * Radio + {:.2f} * SocialMedia + {:.2f} * Influencer\".\n",
    "      format(\n",
    "    lreg.intercept_, \n",
    "    lreg.coef_.tolist()[0],\n",
    "    lreg.coef_.tolist()[1],\n",
    "    lreg.coef_.tolist()[2],\n",
    "    lreg.coef_.tolist()[3]\n",
    ") )"
   ]
  },
  {
   "cell_type": "code",
   "execution_count": 263,
   "id": "39c3ff53",
   "metadata": {},
   "outputs": [
    {
     "data": {
      "text/plain": [
       "3.512439618630776"
      ]
     },
     "execution_count": 263,
     "metadata": {},
     "output_type": "execute_result"
    }
   ],
   "source": [
    "lreg.coef_.tolist()[0]"
   ]
  },
  {
   "cell_type": "code",
   "execution_count": 272,
   "id": "0d7ef222",
   "metadata": {},
   "outputs": [
    {
     "name": "stdout",
     "output_type": "stream",
     "text": [
      "Rendimiento (R^2) sobre entrenamiento: 0.99\n",
      "Rendimiento (R^2) sobre test: 0.99\n",
      "Rendimiento (R^2 medio) sobre validacion cruzada: 0.99\n"
     ]
    }
   ],
   "source": [
    "# Evaluando la bondad del modelo\n",
    "print(\"Rendimiento (R^2) sobre entrenamiento: {:.2f}\".format(lreg.score(X_train, y_train)))\n",
    "print(\"Rendimiento (R^2) sobre test: {:.2f}\".format(lreg.score(X_test, y_test)))\n",
    "scores_val = cross_val_score(lreg, X, y, cv=kfold)\n",
    "print(\"Rendimiento (R^2 medio) sobre validacion cruzada: {:.2f}\".format(scores_val.mean()))"
   ]
  },
  {
   "cell_type": "code",
   "execution_count": 273,
   "id": "039d9d5c",
   "metadata": {},
   "outputs": [
    {
     "name": "stdout",
     "output_type": "stream",
     "text": [
      "Mean Squared Error (MSE): 45.64\n",
      "Root Mean Squared Error (RMSE): 6.76\n",
      "R-squared (R2): 0.99\n"
     ]
    }
   ],
   "source": [
    "# Otras metricas del modelo\n",
    "mse = mean_squared_error(y_test, lreg.predict(X_test))\n",
    "rmse = mean_squared_error(y_test, lreg.predict(X_test), squared=False)\n",
    "r2 = r2_score(y_test, lreg.predict(X_test))\n",
    "print(\"Mean Squared Error (MSE): {:.2f}\".format(mse))\n",
    "print(\"Root Mean Squared Error (RMSE): {:.2f}\".format(rmse))\n",
    "print(\"R-squared (R2): {:.2f}\".format(r2))"
   ]
  },
  {
   "cell_type": "code",
   "execution_count": null,
   "id": "89afe28b",
   "metadata": {},
   "outputs": [],
   "source": [
    "# Representacion ??????????????????????????????????????"
   ]
  },
  {
   "cell_type": "markdown",
   "id": "81e85e41",
   "metadata": {},
   "source": [
    "## Random Forest Regression"
   ]
  },
  {
   "cell_type": "code",
   "execution_count": 301,
   "id": "9d057b3a",
   "metadata": {},
   "outputs": [
    {
     "data": {
      "text/html": [
       "<style>#sk-container-id-17 {color: black;background-color: white;}#sk-container-id-17 pre{padding: 0;}#sk-container-id-17 div.sk-toggleable {background-color: white;}#sk-container-id-17 label.sk-toggleable__label {cursor: pointer;display: block;width: 100%;margin-bottom: 0;padding: 0.3em;box-sizing: border-box;text-align: center;}#sk-container-id-17 label.sk-toggleable__label-arrow:before {content: \"▸\";float: left;margin-right: 0.25em;color: #696969;}#sk-container-id-17 label.sk-toggleable__label-arrow:hover:before {color: black;}#sk-container-id-17 div.sk-estimator:hover label.sk-toggleable__label-arrow:before {color: black;}#sk-container-id-17 div.sk-toggleable__content {max-height: 0;max-width: 0;overflow: hidden;text-align: left;background-color: #f0f8ff;}#sk-container-id-17 div.sk-toggleable__content pre {margin: 0.2em;color: black;border-radius: 0.25em;background-color: #f0f8ff;}#sk-container-id-17 input.sk-toggleable__control:checked~div.sk-toggleable__content {max-height: 200px;max-width: 100%;overflow: auto;}#sk-container-id-17 input.sk-toggleable__control:checked~label.sk-toggleable__label-arrow:before {content: \"▾\";}#sk-container-id-17 div.sk-estimator input.sk-toggleable__control:checked~label.sk-toggleable__label {background-color: #d4ebff;}#sk-container-id-17 div.sk-label input.sk-toggleable__control:checked~label.sk-toggleable__label {background-color: #d4ebff;}#sk-container-id-17 input.sk-hidden--visually {border: 0;clip: rect(1px 1px 1px 1px);clip: rect(1px, 1px, 1px, 1px);height: 1px;margin: -1px;overflow: hidden;padding: 0;position: absolute;width: 1px;}#sk-container-id-17 div.sk-estimator {font-family: monospace;background-color: #f0f8ff;border: 1px dotted black;border-radius: 0.25em;box-sizing: border-box;margin-bottom: 0.5em;}#sk-container-id-17 div.sk-estimator:hover {background-color: #d4ebff;}#sk-container-id-17 div.sk-parallel-item::after {content: \"\";width: 100%;border-bottom: 1px solid gray;flex-grow: 1;}#sk-container-id-17 div.sk-label:hover label.sk-toggleable__label {background-color: #d4ebff;}#sk-container-id-17 div.sk-serial::before {content: \"\";position: absolute;border-left: 1px solid gray;box-sizing: border-box;top: 0;bottom: 0;left: 50%;z-index: 0;}#sk-container-id-17 div.sk-serial {display: flex;flex-direction: column;align-items: center;background-color: white;padding-right: 0.2em;padding-left: 0.2em;position: relative;}#sk-container-id-17 div.sk-item {position: relative;z-index: 1;}#sk-container-id-17 div.sk-parallel {display: flex;align-items: stretch;justify-content: center;background-color: white;position: relative;}#sk-container-id-17 div.sk-item::before, #sk-container-id-17 div.sk-parallel-item::before {content: \"\";position: absolute;border-left: 1px solid gray;box-sizing: border-box;top: 0;bottom: 0;left: 50%;z-index: -1;}#sk-container-id-17 div.sk-parallel-item {display: flex;flex-direction: column;z-index: 1;position: relative;background-color: white;}#sk-container-id-17 div.sk-parallel-item:first-child::after {align-self: flex-end;width: 50%;}#sk-container-id-17 div.sk-parallel-item:last-child::after {align-self: flex-start;width: 50%;}#sk-container-id-17 div.sk-parallel-item:only-child::after {width: 0;}#sk-container-id-17 div.sk-dashed-wrapped {border: 1px dashed gray;margin: 0 0.4em 0.5em 0.4em;box-sizing: border-box;padding-bottom: 0.4em;background-color: white;}#sk-container-id-17 div.sk-label label {font-family: monospace;font-weight: bold;display: inline-block;line-height: 1.2em;}#sk-container-id-17 div.sk-label-container {text-align: center;}#sk-container-id-17 div.sk-container {/* jupyter's `normalize.less` sets `[hidden] { display: none; }` but bootstrap.min.css set `[hidden] { display: none !important; }` so we also need the `!important` here to be able to override the default hidden behavior on the sphinx rendered scikit-learn.org. See: https://github.com/scikit-learn/scikit-learn/issues/21755 */display: inline-block !important;position: relative;}#sk-container-id-17 div.sk-text-repr-fallback {display: none;}</style><div id=\"sk-container-id-17\" class=\"sk-top-container\"><div class=\"sk-text-repr-fallback\"><pre>RandomForestRegressor(max_depth=8, n_estimators=10, random_state=54)</pre><b>In a Jupyter environment, please rerun this cell to show the HTML representation or trust the notebook. <br />On GitHub, the HTML representation is unable to render, please try loading this page with nbviewer.org.</b></div><div class=\"sk-container\" hidden><div class=\"sk-item\"><div class=\"sk-estimator sk-toggleable\"><input class=\"sk-toggleable__control sk-hidden--visually\" id=\"sk-estimator-id-17\" type=\"checkbox\" checked><label for=\"sk-estimator-id-17\" class=\"sk-toggleable__label sk-toggleable__label-arrow\">RandomForestRegressor</label><div class=\"sk-toggleable__content\"><pre>RandomForestRegressor(max_depth=8, n_estimators=10, random_state=54)</pre></div></div></div></div></div>"
      ],
      "text/plain": [
       "RandomForestRegressor(max_depth=8, n_estimators=10, random_state=54)"
      ]
     },
     "execution_count": 301,
     "metadata": {},
     "output_type": "execute_result"
    }
   ],
   "source": [
    "rf = RandomForestRegressor(n_estimators=10, max_depth=8, random_state=random_seed)\n",
    "rf.fit(X_train, y_train)"
   ]
  },
  {
   "cell_type": "code",
   "execution_count": 302,
   "id": "072b63a4",
   "metadata": {},
   "outputs": [
    {
     "data": {
      "text/plain": [
       "array([ 92.23917064, 354.40013634, 164.00973635, ..., 205.12675331,\n",
       "        39.11063179,  84.91381325])"
      ]
     },
     "execution_count": 302,
     "metadata": {},
     "output_type": "execute_result"
    }
   ],
   "source": [
    "rf.predict(X_test)"
   ]
  },
  {
   "cell_type": "code",
   "execution_count": 303,
   "id": "ef358a77",
   "metadata": {},
   "outputs": [
    {
     "name": "stdout",
     "output_type": "stream",
     "text": [
      "Rendimiento (R^2) sobre entrenamiento: 1.00\n",
      "Rendimiento (R^2) sobre test: 0.99\n",
      "Rendimiento (R^2) sobre validacion cruzada: 0.99\n"
     ]
    }
   ],
   "source": [
    "# Evaluando la bondad del modelo\n",
    "print(\"Rendimiento (R^2) sobre entrenamiento: {:.2f}\".format(rf.score(X_train, y_train)))\n",
    "print(\"Rendimiento (R^2) sobre test: {:.2f}\".format(rf.score(X_test, y_test)))\n",
    "scores_val = cross_val_score(rf, X, y, cv=kfold)\n",
    "print(\"Rendimiento (R^2) sobre validacion cruzada: {:.2f}\".format(scores_val.mean()))"
   ]
  },
  {
   "cell_type": "code",
   "execution_count": 304,
   "id": "1738b594",
   "metadata": {},
   "outputs": [
    {
     "name": "stdout",
     "output_type": "stream",
     "text": [
      "Mean Squared Error (MSE): 55.21\n",
      "Root Mean Squared Error (RMSE): 7.43\n",
      "R-squared (R2): 0.99\n"
     ]
    }
   ],
   "source": [
    "# Otras metricas del modelo\n",
    "mse = mean_squared_error(y_test, rf.predict(X_test))\n",
    "rmse = mean_squared_error(y_test, rf.predict(X_test), squared=False)\n",
    "r2 = r2_score(y_test, rf.predict(X_test))\n",
    "print(\"Mean Squared Error (MSE): {:.2f}\".format(mse))\n",
    "print(\"Root Mean Squared Error (RMSE): {:.2f}\".format(rmse))\n",
    "print(\"R-squared (R2): {:.2f}\".format(r2))"
   ]
  },
  {
   "cell_type": "code",
   "execution_count": 347,
   "id": "18234b46",
   "metadata": {},
   "outputs": [
    {
     "data": {
      "text/plain": [
       "array([[9.94015125e-01, 4.00060926e-03, 1.85167009e-03, 1.32596060e-04]])"
      ]
     },
     "execution_count": 347,
     "metadata": {},
     "output_type": "execute_result"
    }
   ],
   "source": [
    "rf.feature_importances_.reshape(1,4)"
   ]
  },
  {
   "cell_type": "code",
   "execution_count": 360,
   "id": "ee58675b",
   "metadata": {},
   "outputs": [
    {
     "data": {
      "text/html": [
       "<div>\n",
       "<style scoped>\n",
       "    .dataframe tbody tr th:only-of-type {\n",
       "        vertical-align: middle;\n",
       "    }\n",
       "\n",
       "    .dataframe tbody tr th {\n",
       "        vertical-align: top;\n",
       "    }\n",
       "\n",
       "    .dataframe thead th {\n",
       "        text-align: right;\n",
       "    }\n",
       "</style>\n",
       "<table border=\"1\" class=\"dataframe\">\n",
       "  <thead>\n",
       "    <tr style=\"text-align: right;\">\n",
       "      <th></th>\n",
       "      <th>Importance</th>\n",
       "    </tr>\n",
       "  </thead>\n",
       "  <tbody>\n",
       "    <tr>\n",
       "      <th>TV</th>\n",
       "      <td>0.994015</td>\n",
       "    </tr>\n",
       "    <tr>\n",
       "      <th>Radio</th>\n",
       "      <td>0.004001</td>\n",
       "    </tr>\n",
       "    <tr>\n",
       "      <th>Social Media</th>\n",
       "      <td>0.001852</td>\n",
       "    </tr>\n",
       "    <tr>\n",
       "      <th>Influencer</th>\n",
       "      <td>0.000133</td>\n",
       "    </tr>\n",
       "  </tbody>\n",
       "</table>\n",
       "</div>"
      ],
      "text/plain": [
       "              Importance\n",
       "TV              0.994015\n",
       "Radio           0.004001\n",
       "Social Media    0.001852\n",
       "Influencer      0.000133"
      ]
     },
     "metadata": {},
     "output_type": "display_data"
    }
   ],
   "source": [
    "# Importancia de los atributos\n",
    "features_importance = pd.Series(data=rf.feature_importances_, \n",
    "          index=X.columns.values.tolist())\n",
    "display(pd.DataFrame(features_importance, columns=[\"Importance\"]))"
   ]
  },
  {
   "cell_type": "code",
   "execution_count": 366,
   "id": "f93ce77e",
   "metadata": {},
   "outputs": [
    {
     "data": {
      "text/plain": [
       "<Axes: >"
      ]
     },
     "execution_count": 366,
     "metadata": {},
     "output_type": "execute_result"
    },
    {
     "data": {
      "image/png": "[encoded data removed]",
      "text/plain": [
       "<Figure size 640x480 with 1 Axes>"
      ]
     },
     "metadata": {},
     "output_type": "display_data"
    }
   ],
   "source": [
    "features_importance.plot.barh()"
   ]
  },
  {
   "cell_type": "code",
   "execution_count": 369,
   "id": "ae5d64a5",
   "metadata": {},
   "outputs": [
    {
     "data": {
      "text/plain": [
       "<Axes: >"
      ]
     },
     "execution_count": 369,
     "metadata": {},
     "output_type": "execute_result"
    },
    {
     "data": {
      "image/png": "[encoded data removed]",
      "text/plain": [
       "<Figure size 640x480 with 1 Axes>"
      ]
     },
     "metadata": {},
     "output_type": "display_data"
    }
   ],
   "source": [
    "features_importance.drop(\"TV\").plot.barh()"
   ]
  },
  {
   "cell_type": "code",
   "execution_count": 335,
   "id": "77929982",
   "metadata": {},
   "outputs": [],
   "source": [
    "# Representacion ???????????????"
   ]
  },
  {
   "cell_type": "code",
   "execution_count": 325,
   "id": "215de27f",
   "metadata": {},
   "outputs": [],
   "source": []
  },
  {
   "cell_type": "code",
   "execution_count": null,
   "id": "8b055676",
   "metadata": {},
   "outputs": [],
   "source": []
  },
  {
   "cell_type": "markdown",
   "id": "a755dbba",
   "metadata": {},
   "source": [
    "### GridSearch"
   ]
  },
  {
   "cell_type": "code",
   "execution_count": null,
   "id": "a9023559",
   "metadata": {},
   "outputs": [],
   "source": [
    "# ???????????????? Lo hacemos? creo que no hace falta"
   ]
  }
 ],
 "metadata": {
  "kernelspec": {
   "display_name": "Python 3 (ipykernel)",
   "language": "python",
   "name": "python3"
  },
  "language_info": {
   "codemirror_mode": {
    "name": "ipython",
    "version": 3
   },
   "file_extension": ".py",
   "mimetype": "text/x-python",
   "name": "python",
   "nbconvert_exporter": "python",
   "pygments_lexer": "ipython3",
   "version": "3.9.16"
  }
 },
 "nbformat": 4,
 "nbformat_minor": 5
}
